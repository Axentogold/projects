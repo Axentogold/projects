{
 "cells": [
  {
   "cell_type": "code",
   "execution_count": 97,
   "metadata": {},
   "outputs": [],
   "source": [
    "import pandas as pd\n",
    "import matplotlib.pyplot as plt\n",
    "import seaborn as sns\n",
    "sns.set()\n",
    "pd.set_option('display.max_columns', 50)"
   ]
  },
  {
   "cell_type": "code",
   "execution_count": 98,
   "metadata": {},
   "outputs": [],
   "source": [
    "df = pd.read_csv('flights.csv')\n",
    "df.dropna(inplace = True)"
   ]
  },
  {
   "cell_type": "code",
   "execution_count": 99,
   "metadata": {},
   "outputs": [
    {
     "data": {
      "text/html": [
       "<div>\n",
       "<style scoped>\n",
       "    .dataframe tbody tr th:only-of-type {\n",
       "        vertical-align: middle;\n",
       "    }\n",
       "\n",
       "    .dataframe tbody tr th {\n",
       "        vertical-align: top;\n",
       "    }\n",
       "\n",
       "    .dataframe thead th {\n",
       "        text-align: right;\n",
       "    }\n",
       "</style>\n",
       "<table border=\"1\" class=\"dataframe\">\n",
       "  <thead>\n",
       "    <tr style=\"text-align: right;\">\n",
       "      <th></th>\n",
       "      <th>flight_id</th>\n",
       "      <th>flight_no</th>\n",
       "      <th>arrival_airport</th>\n",
       "      <th>city</th>\n",
       "      <th>actual_departure</th>\n",
       "      <th>actual_arrival</th>\n",
       "      <th>flight_time</th>\n",
       "      <th>model</th>\n",
       "      <th>fuel_consum_kg_hr</th>\n",
       "      <th>aircraft_code</th>\n",
       "      <th>seat_economy</th>\n",
       "      <th>seat_bisiness</th>\n",
       "      <th>seat_total</th>\n",
       "      <th>flight_id.1</th>\n",
       "      <th>sold_economy</th>\n",
       "      <th>sold_bisiness</th>\n",
       "      <th>sold_total</th>\n",
       "      <th>amount_economy</th>\n",
       "      <th>amount_bisiness</th>\n",
       "      <th>amount_total</th>\n",
       "    </tr>\n",
       "  </thead>\n",
       "  <tbody>\n",
       "    <tr>\n",
       "      <th>0</th>\n",
       "      <td>136119</td>\n",
       "      <td>PG0252</td>\n",
       "      <td>SVO</td>\n",
       "      <td>Moscow</td>\n",
       "      <td>2017-01-03T10:08:00Z</td>\n",
       "      <td>2017-01-03T11:49:00Z</td>\n",
       "      <td>101.0</td>\n",
       "      <td>Boeing 737-300</td>\n",
       "      <td>2400</td>\n",
       "      <td>733</td>\n",
       "      <td>118</td>\n",
       "      <td>12</td>\n",
       "      <td>130</td>\n",
       "      <td>136119.0</td>\n",
       "      <td>102.0</td>\n",
       "      <td>11.0</td>\n",
       "      <td>113.0</td>\n",
       "      <td>1250400.0</td>\n",
       "      <td>402600.0</td>\n",
       "      <td>1653000.0</td>\n",
       "    </tr>\n",
       "    <tr>\n",
       "      <th>1</th>\n",
       "      <td>136120</td>\n",
       "      <td>PG0252</td>\n",
       "      <td>SVO</td>\n",
       "      <td>Moscow</td>\n",
       "      <td>2017-02-24T10:07:00Z</td>\n",
       "      <td>2017-02-24T11:46:00Z</td>\n",
       "      <td>99.0</td>\n",
       "      <td>Boeing 737-300</td>\n",
       "      <td>2400</td>\n",
       "      <td>733</td>\n",
       "      <td>118</td>\n",
       "      <td>12</td>\n",
       "      <td>130</td>\n",
       "      <td>136120.0</td>\n",
       "      <td>98.0</td>\n",
       "      <td>11.0</td>\n",
       "      <td>109.0</td>\n",
       "      <td>1202800.0</td>\n",
       "      <td>402600.0</td>\n",
       "      <td>1605400.0</td>\n",
       "    </tr>\n",
       "    <tr>\n",
       "      <th>2</th>\n",
       "      <td>136122</td>\n",
       "      <td>PG0252</td>\n",
       "      <td>SVO</td>\n",
       "      <td>Moscow</td>\n",
       "      <td>2017-01-08T10:08:00Z</td>\n",
       "      <td>2017-01-08T11:48:00Z</td>\n",
       "      <td>100.0</td>\n",
       "      <td>Boeing 737-300</td>\n",
       "      <td>2400</td>\n",
       "      <td>733</td>\n",
       "      <td>118</td>\n",
       "      <td>12</td>\n",
       "      <td>130</td>\n",
       "      <td>136122.0</td>\n",
       "      <td>87.0</td>\n",
       "      <td>10.0</td>\n",
       "      <td>97.0</td>\n",
       "      <td>1065000.0</td>\n",
       "      <td>366000.0</td>\n",
       "      <td>1431000.0</td>\n",
       "    </tr>\n",
       "    <tr>\n",
       "      <th>3</th>\n",
       "      <td>136130</td>\n",
       "      <td>PG0252</td>\n",
       "      <td>SVO</td>\n",
       "      <td>Moscow</td>\n",
       "      <td>2017-02-13T10:07:00Z</td>\n",
       "      <td>2017-02-13T11:46:00Z</td>\n",
       "      <td>99.0</td>\n",
       "      <td>Boeing 737-300</td>\n",
       "      <td>2400</td>\n",
       "      <td>733</td>\n",
       "      <td>118</td>\n",
       "      <td>12</td>\n",
       "      <td>130</td>\n",
       "      <td>136130.0</td>\n",
       "      <td>97.0</td>\n",
       "      <td>10.0</td>\n",
       "      <td>107.0</td>\n",
       "      <td>1190600.0</td>\n",
       "      <td>366000.0</td>\n",
       "      <td>1556600.0</td>\n",
       "    </tr>\n",
       "    <tr>\n",
       "      <th>4</th>\n",
       "      <td>136131</td>\n",
       "      <td>PG0252</td>\n",
       "      <td>SVO</td>\n",
       "      <td>Moscow</td>\n",
       "      <td>2017-01-28T10:07:00Z</td>\n",
       "      <td>2017-01-28T11:46:00Z</td>\n",
       "      <td>99.0</td>\n",
       "      <td>Boeing 737-300</td>\n",
       "      <td>2400</td>\n",
       "      <td>733</td>\n",
       "      <td>118</td>\n",
       "      <td>12</td>\n",
       "      <td>130</td>\n",
       "      <td>136131.0</td>\n",
       "      <td>112.0</td>\n",
       "      <td>12.0</td>\n",
       "      <td>124.0</td>\n",
       "      <td>1373600.0</td>\n",
       "      <td>439200.0</td>\n",
       "      <td>1812800.0</td>\n",
       "    </tr>\n",
       "  </tbody>\n",
       "</table>\n",
       "</div>"
      ],
      "text/plain": [
       "   flight_id flight_no arrival_airport    city      actual_departure  \\\n",
       "0     136119    PG0252             SVO  Moscow  2017-01-03T10:08:00Z   \n",
       "1     136120    PG0252             SVO  Moscow  2017-02-24T10:07:00Z   \n",
       "2     136122    PG0252             SVO  Moscow  2017-01-08T10:08:00Z   \n",
       "3     136130    PG0252             SVO  Moscow  2017-02-13T10:07:00Z   \n",
       "4     136131    PG0252             SVO  Moscow  2017-01-28T10:07:00Z   \n",
       "\n",
       "         actual_arrival  flight_time           model  fuel_consum_kg_hr  \\\n",
       "0  2017-01-03T11:49:00Z        101.0  Boeing 737-300               2400   \n",
       "1  2017-02-24T11:46:00Z         99.0  Boeing 737-300               2400   \n",
       "2  2017-01-08T11:48:00Z        100.0  Boeing 737-300               2400   \n",
       "3  2017-02-13T11:46:00Z         99.0  Boeing 737-300               2400   \n",
       "4  2017-01-28T11:46:00Z         99.0  Boeing 737-300               2400   \n",
       "\n",
       "  aircraft_code  seat_economy  seat_bisiness  seat_total  flight_id.1  \\\n",
       "0           733           118             12         130     136119.0   \n",
       "1           733           118             12         130     136120.0   \n",
       "2           733           118             12         130     136122.0   \n",
       "3           733           118             12         130     136130.0   \n",
       "4           733           118             12         130     136131.0   \n",
       "\n",
       "   sold_economy  sold_bisiness  sold_total  amount_economy  amount_bisiness  \\\n",
       "0         102.0           11.0       113.0       1250400.0         402600.0   \n",
       "1          98.0           11.0       109.0       1202800.0         402600.0   \n",
       "2          87.0           10.0        97.0       1065000.0         366000.0   \n",
       "3          97.0           10.0       107.0       1190600.0         366000.0   \n",
       "4         112.0           12.0       124.0       1373600.0         439200.0   \n",
       "\n",
       "   amount_total  \n",
       "0     1653000.0  \n",
       "1     1605400.0  \n",
       "2     1431000.0  \n",
       "3     1556600.0  \n",
       "4     1812800.0  "
      ]
     },
     "execution_count": 99,
     "metadata": {},
     "output_type": "execute_result"
    }
   ],
   "source": [
    "df.head()"
   ]
  },
  {
   "cell_type": "code",
   "execution_count": 100,
   "metadata": {},
   "outputs": [
    {
     "name": "stdout",
     "output_type": "stream",
     "text": [
      "<class 'pandas.core.frame.DataFrame'>\n",
      "Int64Index: 118 entries, 0 to 117\n",
      "Data columns (total 20 columns):\n",
      " #   Column             Non-Null Count  Dtype  \n",
      "---  ------             --------------  -----  \n",
      " 0   flight_id          118 non-null    int64  \n",
      " 1   flight_no          118 non-null    object \n",
      " 2   arrival_airport    118 non-null    object \n",
      " 3   city               118 non-null    object \n",
      " 4   actual_departure   118 non-null    object \n",
      " 5   actual_arrival     118 non-null    object \n",
      " 6   flight_time        118 non-null    float64\n",
      " 7   model              118 non-null    object \n",
      " 8   fuel_consum_kg_hr  118 non-null    int64  \n",
      " 9   aircraft_code      118 non-null    object \n",
      " 10  seat_economy       118 non-null    int64  \n",
      " 11  seat_bisiness      118 non-null    int64  \n",
      " 12  seat_total         118 non-null    int64  \n",
      " 13  flight_id.1        118 non-null    float64\n",
      " 14  sold_economy       118 non-null    float64\n",
      " 15  sold_bisiness      118 non-null    float64\n",
      " 16  sold_total         118 non-null    float64\n",
      " 17  amount_economy     118 non-null    float64\n",
      " 18  amount_bisiness    118 non-null    float64\n",
      " 19  amount_total       118 non-null    float64\n",
      "dtypes: float64(8), int64(5), object(7)\n",
      "memory usage: 19.4+ KB\n"
     ]
    }
   ],
   "source": [
    "df.info()"
   ]
  },
  {
   "cell_type": "markdown",
   "metadata": {},
   "source": [
    "Переведем даты в формат datetime"
   ]
  },
  {
   "cell_type": "code",
   "execution_count": 101,
   "metadata": {},
   "outputs": [],
   "source": [
    "df.actual_departure = pd.to_datetime(df.actual_departure)\n",
    "df.actual_arrival = pd.to_datetime(df.actual_arrival)"
   ]
  },
  {
   "cell_type": "markdown",
   "metadata": {},
   "source": [
    "Переведем время полета в часы"
   ]
  },
  {
   "cell_type": "code",
   "execution_count": 102,
   "metadata": {},
   "outputs": [],
   "source": [
    "df.flight_time = df.flight_time / 60"
   ]
  },
  {
   "cell_type": "markdown",
   "metadata": {},
   "source": [
    "\n",
    "Создадим признак расход топлива и затраты на топливо \n"
   ]
  },
  {
   "cell_type": "code",
   "execution_count": 103,
   "metadata": {},
   "outputs": [],
   "source": [
    "df['fuel_spent'] = df.flight_time * df.fuel_consum_kg_hr\n",
    "df['fuel_cost'] = df.fuel_spent * (48.97)"
   ]
  },
  {
   "cell_type": "markdown",
   "metadata": {},
   "source": [
    "Создадим признак прибыль с вычетом затрат на топливо"
   ]
  },
  {
   "cell_type": "code",
   "execution_count": 104,
   "metadata": {},
   "outputs": [],
   "source": [
    "df['profit'] =  df.amount_total - df.fuel_cost\n",
    "df.profit = df.profit.astype('int64')"
   ]
  },
  {
   "cell_type": "markdown",
   "metadata": {},
   "source": [
    "Посчитаем загруженость рейсов в процентах"
   ]
  },
  {
   "cell_type": "code",
   "execution_count": 105,
   "metadata": {},
   "outputs": [],
   "source": [
    "df['seats_percent'] = df.sold_total / df.seat_total"
   ]
  },
  {
   "cell_type": "code",
   "execution_count": 106,
   "metadata": {},
   "outputs": [
    {
     "data": {
      "text/html": [
       "<div>\n",
       "<style scoped>\n",
       "    .dataframe tbody tr th:only-of-type {\n",
       "        vertical-align: middle;\n",
       "    }\n",
       "\n",
       "    .dataframe tbody tr th {\n",
       "        vertical-align: top;\n",
       "    }\n",
       "\n",
       "    .dataframe thead th {\n",
       "        text-align: right;\n",
       "    }\n",
       "</style>\n",
       "<table border=\"1\" class=\"dataframe\">\n",
       "  <thead>\n",
       "    <tr style=\"text-align: right;\">\n",
       "      <th></th>\n",
       "      <th>flight_id</th>\n",
       "      <th>flight_no</th>\n",
       "      <th>arrival_airport</th>\n",
       "      <th>city</th>\n",
       "      <th>actual_departure</th>\n",
       "      <th>actual_arrival</th>\n",
       "      <th>flight_time</th>\n",
       "      <th>model</th>\n",
       "      <th>fuel_consum_kg_hr</th>\n",
       "      <th>aircraft_code</th>\n",
       "      <th>seat_economy</th>\n",
       "      <th>seat_bisiness</th>\n",
       "      <th>seat_total</th>\n",
       "      <th>flight_id.1</th>\n",
       "      <th>sold_economy</th>\n",
       "      <th>sold_bisiness</th>\n",
       "      <th>sold_total</th>\n",
       "      <th>amount_economy</th>\n",
       "      <th>amount_bisiness</th>\n",
       "      <th>amount_total</th>\n",
       "      <th>fuel_spent</th>\n",
       "      <th>fuel_cost</th>\n",
       "      <th>profit</th>\n",
       "      <th>seats_percent</th>\n",
       "    </tr>\n",
       "  </thead>\n",
       "  <tbody>\n",
       "    <tr>\n",
       "      <th>2</th>\n",
       "      <td>136122</td>\n",
       "      <td>PG0252</td>\n",
       "      <td>SVO</td>\n",
       "      <td>Moscow</td>\n",
       "      <td>2017-01-08 10:08:00+00:00</td>\n",
       "      <td>2017-01-08 11:48:00+00:00</td>\n",
       "      <td>1.666667</td>\n",
       "      <td>Boeing 737-300</td>\n",
       "      <td>2400</td>\n",
       "      <td>733</td>\n",
       "      <td>118</td>\n",
       "      <td>12</td>\n",
       "      <td>130</td>\n",
       "      <td>136122.0</td>\n",
       "      <td>87.0</td>\n",
       "      <td>10.0</td>\n",
       "      <td>97.0</td>\n",
       "      <td>1065000.0</td>\n",
       "      <td>366000.0</td>\n",
       "      <td>1431000.0</td>\n",
       "      <td>4000.000000</td>\n",
       "      <td>195880.000000</td>\n",
       "      <td>1235120</td>\n",
       "      <td>0.746154</td>\n",
       "    </tr>\n",
       "    <tr>\n",
       "      <th>38</th>\n",
       "      <td>136360</td>\n",
       "      <td>PG0252</td>\n",
       "      <td>SVO</td>\n",
       "      <td>Moscow</td>\n",
       "      <td>2017-02-05 10:08:00+00:00</td>\n",
       "      <td>2017-02-05 11:48:00+00:00</td>\n",
       "      <td>1.666667</td>\n",
       "      <td>Boeing 737-300</td>\n",
       "      <td>2400</td>\n",
       "      <td>733</td>\n",
       "      <td>118</td>\n",
       "      <td>12</td>\n",
       "      <td>130</td>\n",
       "      <td>136360.0</td>\n",
       "      <td>86.0</td>\n",
       "      <td>11.0</td>\n",
       "      <td>97.0</td>\n",
       "      <td>1052800.0</td>\n",
       "      <td>402600.0</td>\n",
       "      <td>1455400.0</td>\n",
       "      <td>4000.000000</td>\n",
       "      <td>195880.000000</td>\n",
       "      <td>1259520</td>\n",
       "      <td>0.746154</td>\n",
       "    </tr>\n",
       "    <tr>\n",
       "      <th>68</th>\n",
       "      <td>136642</td>\n",
       "      <td>PG0480</td>\n",
       "      <td>EGO</td>\n",
       "      <td>Belgorod</td>\n",
       "      <td>2017-01-30 09:28:00+00:00</td>\n",
       "      <td>2017-01-30 10:17:00+00:00</td>\n",
       "      <td>0.816667</td>\n",
       "      <td>Sukhoi Superjet-100</td>\n",
       "      <td>1700</td>\n",
       "      <td>SU9</td>\n",
       "      <td>85</td>\n",
       "      <td>12</td>\n",
       "      <td>97</td>\n",
       "      <td>136642.0</td>\n",
       "      <td>54.0</td>\n",
       "      <td>10.0</td>\n",
       "      <td>64.0</td>\n",
       "      <td>342000.0</td>\n",
       "      <td>189000.0</td>\n",
       "      <td>531000.0</td>\n",
       "      <td>1388.333333</td>\n",
       "      <td>67986.683333</td>\n",
       "      <td>463013</td>\n",
       "      <td>0.659794</td>\n",
       "    </tr>\n",
       "    <tr>\n",
       "      <th>93</th>\n",
       "      <td>136807</td>\n",
       "      <td>PG0480</td>\n",
       "      <td>EGO</td>\n",
       "      <td>Belgorod</td>\n",
       "      <td>2017-02-23 09:28:00+00:00</td>\n",
       "      <td>2017-02-23 10:18:00+00:00</td>\n",
       "      <td>0.833333</td>\n",
       "      <td>Sukhoi Superjet-100</td>\n",
       "      <td>1700</td>\n",
       "      <td>SU9</td>\n",
       "      <td>85</td>\n",
       "      <td>12</td>\n",
       "      <td>97</td>\n",
       "      <td>136807.0</td>\n",
       "      <td>60.0</td>\n",
       "      <td>8.0</td>\n",
       "      <td>68.0</td>\n",
       "      <td>379800.0</td>\n",
       "      <td>151200.0</td>\n",
       "      <td>531000.0</td>\n",
       "      <td>1416.666667</td>\n",
       "      <td>69374.166667</td>\n",
       "      <td>461625</td>\n",
       "      <td>0.701031</td>\n",
       "    </tr>\n",
       "  </tbody>\n",
       "</table>\n",
       "</div>"
      ],
      "text/plain": [
       "    flight_id flight_no arrival_airport      city          actual_departure  \\\n",
       "2      136122    PG0252             SVO    Moscow 2017-01-08 10:08:00+00:00   \n",
       "38     136360    PG0252             SVO    Moscow 2017-02-05 10:08:00+00:00   \n",
       "68     136642    PG0480             EGO  Belgorod 2017-01-30 09:28:00+00:00   \n",
       "93     136807    PG0480             EGO  Belgorod 2017-02-23 09:28:00+00:00   \n",
       "\n",
       "              actual_arrival  flight_time                model  \\\n",
       "2  2017-01-08 11:48:00+00:00     1.666667       Boeing 737-300   \n",
       "38 2017-02-05 11:48:00+00:00     1.666667       Boeing 737-300   \n",
       "68 2017-01-30 10:17:00+00:00     0.816667  Sukhoi Superjet-100   \n",
       "93 2017-02-23 10:18:00+00:00     0.833333  Sukhoi Superjet-100   \n",
       "\n",
       "    fuel_consum_kg_hr aircraft_code  seat_economy  seat_bisiness  seat_total  \\\n",
       "2                2400           733           118             12         130   \n",
       "38               2400           733           118             12         130   \n",
       "68               1700           SU9            85             12          97   \n",
       "93               1700           SU9            85             12          97   \n",
       "\n",
       "    flight_id.1  sold_economy  sold_bisiness  sold_total  amount_economy  \\\n",
       "2      136122.0          87.0           10.0        97.0       1065000.0   \n",
       "38     136360.0          86.0           11.0        97.0       1052800.0   \n",
       "68     136642.0          54.0           10.0        64.0        342000.0   \n",
       "93     136807.0          60.0            8.0        68.0        379800.0   \n",
       "\n",
       "    amount_bisiness  amount_total   fuel_spent      fuel_cost   profit  \\\n",
       "2          366000.0     1431000.0  4000.000000  195880.000000  1235120   \n",
       "38         402600.0     1455400.0  4000.000000  195880.000000  1259520   \n",
       "68         189000.0      531000.0  1388.333333   67986.683333   463013   \n",
       "93         151200.0      531000.0  1416.666667   69374.166667   461625   \n",
       "\n",
       "    seats_percent  \n",
       "2        0.746154  \n",
       "38       0.746154  \n",
       "68       0.659794  \n",
       "93       0.701031  "
      ]
     },
     "execution_count": 106,
     "metadata": {},
     "output_type": "execute_result"
    }
   ],
   "source": [
    "df[df.seats_percent < 0.75]"
   ]
  },
  {
   "cell_type": "markdown",
   "metadata": {},
   "source": [
    "Посмотрим направления по всем рейсам и разберем каждое в отдельности"
   ]
  },
  {
   "cell_type": "code",
   "execution_count": 107,
   "metadata": {},
   "outputs": [
    {
     "data": {
      "text/plain": [
       "array(['PG0252', 'PG0480'], dtype=object)"
      ]
     },
     "execution_count": 107,
     "metadata": {},
     "output_type": "execute_result"
    }
   ],
   "source": [
    "df.flight_no.unique()"
   ]
  },
  {
   "cell_type": "code",
   "execution_count": 108,
   "metadata": {},
   "outputs": [
    {
     "data": {
      "text/html": [
       "<div>\n",
       "<style scoped>\n",
       "    .dataframe tbody tr th:only-of-type {\n",
       "        vertical-align: middle;\n",
       "    }\n",
       "\n",
       "    .dataframe tbody tr th {\n",
       "        vertical-align: top;\n",
       "    }\n",
       "\n",
       "    .dataframe thead th {\n",
       "        text-align: right;\n",
       "    }\n",
       "</style>\n",
       "<table border=\"1\" class=\"dataframe\">\n",
       "  <thead>\n",
       "    <tr style=\"text-align: right;\">\n",
       "      <th></th>\n",
       "      <th>flight_no</th>\n",
       "      <th>min</th>\n",
       "      <th>mean</th>\n",
       "      <th>max</th>\n",
       "    </tr>\n",
       "  </thead>\n",
       "  <tbody>\n",
       "    <tr>\n",
       "      <th>0</th>\n",
       "      <td>PG0252</td>\n",
       "      <td>1398000</td>\n",
       "      <td>1642576</td>\n",
       "      <td>1886000</td>\n",
       "    </tr>\n",
       "    <tr>\n",
       "      <th>1</th>\n",
       "      <td>PG0480</td>\n",
       "      <td>531000</td>\n",
       "      <td>710435</td>\n",
       "      <td>765300</td>\n",
       "    </tr>\n",
       "  </tbody>\n",
       "</table>\n",
       "</div>"
      ],
      "text/plain": [
       "  flight_no      min     mean      max\n",
       "0    PG0252  1398000  1642576  1886000\n",
       "1    PG0480   531000   710435   765300"
      ]
     },
     "execution_count": 108,
     "metadata": {},
     "output_type": "execute_result"
    }
   ],
   "source": [
    "df_amount_stat = df.groupby('flight_no').amount_total.agg(['min', 'mean', 'max']).astype('int64').reset_index()\n",
    "df_amount_stat"
   ]
  },
  {
   "cell_type": "code",
   "execution_count": 109,
   "metadata": {},
   "outputs": [
    {
     "data": {
      "image/png": "[encoded data removed]",
      "text/plain": [
       "<Figure size 864x720 with 1 Axes>"
      ]
     },
     "metadata": {},
     "output_type": "display_data"
    }
   ],
   "source": [
    "fig, ax = plt.subplots(figsize=(12,10))\n",
    "sns.set_color_codes('bright')\n",
    "sns.barplot(x='flight_no', y='max', data=df_amount_stat,color = 'r', label = 'max')\n",
    "sns.set_color_codes('muted')\n",
    "sns.barplot(x='flight_no', y='mean', data=df_amount_stat, color = 'g', label = 'mean')\n",
    "sns.set_color_codes('deep')\n",
    "sns.barplot(x='flight_no', y='min', data=df_amount_stat, color = 'b', label = 'min')\n",
    "ax.legend(loc = 1)\n",
    "plt.ylabel(None)\n",
    "ax.set_title('Прибыль с продажи билетов',fontsize= 14)\n",
    "ax.set_xlabel('Направления')\n",
    "ax.set_ylabel('Прибыль млн. руб');"
   ]
  },
  {
   "cell_type": "code",
   "execution_count": 110,
   "metadata": {},
   "outputs": [],
   "source": [
    "df_seats_stat = df.groupby('flight_no').sold_total.agg(['min', 'mean', 'max']).astype('int64').reset_index()"
   ]
  },
  {
   "cell_type": "code",
   "execution_count": 111,
   "metadata": {},
   "outputs": [
    {
     "data": {
      "image/png": "[encoded data removed]",
      "text/plain": [
       "<Figure size 864x720 with 1 Axes>"
      ]
     },
     "metadata": {},
     "output_type": "display_data"
    }
   ],
   "source": [
    "fig, ax = plt.subplots(figsize=(12,10))\n",
    "sns.set_color_codes('bright')\n",
    "sns.barplot(x='flight_no', y='max', data=df_seats_stat,color = 'r', label = 'max')\n",
    "sns.set_color_codes('muted')\n",
    "sns.barplot(x='flight_no', y='mean', data=df_seats_stat, color = 'g', label = 'mean')\n",
    "sns.set_color_codes('deep')\n",
    "sns.barplot(x='flight_no', y='min', data=df_seats_stat, color = 'b', label = 'min')\n",
    "ax.legend(loc = 1)\n",
    "plt.ylabel(None)\n",
    "ax.set_title('Количество проданных билетов',fontsize= 14)\n",
    "ax.set_xlabel('Направления');"
   ]
  },
  {
   "cell_type": "code",
   "execution_count": 112,
   "metadata": {},
   "outputs": [],
   "source": [
    "# метки в виде текста\n",
    "def label_point(x, y, val, ax):\n",
    "    a = pd.concat({'x': x, 'y': y, 'val': val}, axis=1)\n",
    "    for i, point in a.iterrows():\n",
    "        ax.text(point['x']+.02, point['y'], str(point['val']))"
   ]
  },
  {
   "cell_type": "markdown",
   "metadata": {},
   "source": [
    "Посмотрим на прибыль относительно заполнености самолета. Неприбыльными будем считать самолеты с заполненостью <= 0.75 и создадим список рейсов с такими показателями. https://www.kommersant.ru/doc/3246832"
   ]
  },
  {
   "cell_type": "code",
   "execution_count": 113,
   "metadata": {},
   "outputs": [
    {
     "data": {
      "text/plain": [
       "[136122, 136360, 136642, 136807]"
      ]
     },
     "execution_count": 113,
     "metadata": {},
     "output_type": "execute_result"
    }
   ],
   "source": [
    "flight_unprofit1 = list(df[df.seats_percent < 0.75].flight_id)\n",
    "flight_unprofit1"
   ]
  },
  {
   "cell_type": "code",
   "execution_count": 114,
   "metadata": {},
   "outputs": [
    {
     "data": {
      "image/png": "[encoded data removed]",
      "text/plain": [
       "<Figure size 864x720 with 1 Axes>"
      ]
     },
     "metadata": {},
     "output_type": "display_data"
    }
   ],
   "source": [
    "df1 = df[df.seats_percent > 0.75]\n",
    "df2 = df[df.seats_percent <= 0.75]\n",
    "\n",
    "fig, ax = plt.subplots(figsize=(12, 10))\n",
    "sns.scatterplot(x='profit', y='seats_percent', data=df1,\n",
    "                hue='flight_no', s=180, palette=\"dark\")\n",
    "sns.scatterplot(x='profit', y='seats_percent', data=df2,\n",
    "                hue='flight_no', s=180, palette=\"pastel\")\n",
    "sns.set_color_codes('pastel')\n",
    "plt.axhline(0.75, linestyle=':')\n",
    "ax.legend(loc=4)\n",
    "ax.set_title(\n",
    "    'Зависимость прибыли за вычетом цен на топливо от заполненности самолета', fontsize=14)\n",
    "ax.set_xlabel('Прибыль млн. руб')\n",
    "ax.set_ylabel('Заполненность')\n",
    "\n",
    "label_point(df2.profit,\n",
    "            df2.seats_percent,\n",
    "            df2.flight_id,\n",
    "            plt.gca())\n"
   ]
  },
  {
   "cell_type": "markdown",
   "metadata": {},
   "source": [
    "Найдем, для каждого направления с низкой заполненостью, границу, после которой рейсы считаются неприбыльными. Создадим список таких рейсов."
   ]
  },
  {
   "cell_type": "code",
   "execution_count": 115,
   "metadata": {},
   "outputs": [],
   "source": [
    "max_unprofit_PG0480 =  df[(df.flight_no == 'PG0480') & (df.seats_percent <= 0.75)].profit.max()\n",
    "max_unprofit_PG0252 =  df[(df.flight_no == 'PG0252') & (df.seats_percent <= 0.75)].profit.max()"
   ]
  },
  {
   "cell_type": "code",
   "execution_count": 116,
   "metadata": {},
   "outputs": [
    {
     "data": {
      "image/png": "[encoded data removed]",
      "text/plain": [
       "<Figure size 864x720 with 1 Axes>"
      ]
     },
     "metadata": {},
     "output_type": "display_data"
    }
   ],
   "source": [
    "fig, ax = plt.subplots(figsize=(12, 10))\n",
    "sns.scatterplot(x='profit', y='seats_percent',\n",
    "                data=df1[df1.flight_no == 'PG0480'], s=150, color='#32CD32', palette=\"deep\")\n",
    "sns.scatterplot(x='profit', y='seats_percent',\n",
    "                data=df2[df2.flight_no == 'PG0480'], s=150, color='#FF0000', palette=\"pastel\")\n",
    "ax.axvline(max_unprofit_PG0480, linestyle=':')\n",
    "ax.set_title('Прибыльность рейсов для направления PG0480', fontsize= 14)\n",
    "ax.set_xlabel('Прибыль млн. руб')\n",
    "ax.set_ylabel('Заполненность');\n",
    "\n",
    "label_point(df2[df2.flight_no == 'PG0480'].profit,\n",
    "            df2[df2.flight_no == 'PG0480'].seats_percent,\n",
    "            df2[df2.flight_no == 'PG0480'].flight_id,\n",
    "            plt.gca())\n"
   ]
  },
  {
   "cell_type": "code",
   "execution_count": 117,
   "metadata": {},
   "outputs": [],
   "source": [
    "df3 = df[df.profit <= max_unprofit_PG0252]\n",
    "df4 = df[df.profit > max_unprofit_PG0252]"
   ]
  },
  {
   "cell_type": "code",
   "execution_count": 118,
   "metadata": {},
   "outputs": [
    {
     "data": {
      "image/png": "[encoded data removed]",
      "text/plain": [
       "<Figure size 864x720 with 1 Axes>"
      ]
     },
     "metadata": {},
     "output_type": "display_data"
    }
   ],
   "source": [
    "fig, ax = plt.subplots(figsize=(12, 10))\n",
    "sns.scatterplot(x='profit', y='seats_percent',\n",
    "                data=df4[df4.flight_no == 'PG0252'], s=150, color='#32CD32', palette=\"deep\")\n",
    "sns.scatterplot(x='profit', y='seats_percent',\n",
    "                data=df3[df3.flight_no == 'PG0252'], s=150, color='#FF0000', palette=\"pastel\")\n",
    "ax.axvline(max_unprofit_PG0252, linestyle=':')\n",
    "ax.set_title('Прибыльность рейсов для направления PG0252', fontsize= 14)\n",
    "ax.set_xlabel('Прибыль млн. руб')\n",
    "ax.set_ylabel('Заполненность');\n",
    "\n",
    "label_point(df3[df3.flight_no == 'PG0252'].profit,\n",
    "            df3[df3.flight_no == 'PG0252'].seats_percent,\n",
    "            df3[df3.flight_no == 'PG0252'].flight_id,\n",
    "            plt.gca())  \n",
    "fig.savefig('Прибыльность PG0252.svg')"
   ]
  },
  {
   "cell_type": "code",
   "execution_count": 119,
   "metadata": {},
   "outputs": [],
   "source": [
    "flight_unprofit2 = list(df3[df3.flight_no == 'PG0252'].flight_id)"
   ]
  },
  {
   "cell_type": "markdown",
   "metadata": {},
   "source": [
    "Мой прогноз неприбыльных рейсов"
   ]
  },
  {
   "cell_type": "code",
   "execution_count": 120,
   "metadata": {},
   "outputs": [],
   "source": [
    "flight_unprofit = set(flight_unprofit1 + flight_unprofit2)"
   ]
  },
  {
   "cell_type": "code",
   "execution_count": 121,
   "metadata": {},
   "outputs": [
    {
     "data": {
      "text/plain": [
       "{136122, 136178, 136250, 136360, 136464, 136642, 136807}"
      ]
     },
     "execution_count": 121,
     "metadata": {},
     "output_type": "execute_result"
    }
   ],
   "source": [
    "flight_unprofit"
   ]
  },
  {
   "cell_type": "code",
   "execution_count": 122,
   "metadata": {},
   "outputs": [
    {
     "data": {
      "text/html": [
       "<div>\n",
       "<style scoped>\n",
       "    .dataframe tbody tr th:only-of-type {\n",
       "        vertical-align: middle;\n",
       "    }\n",
       "\n",
       "    .dataframe tbody tr th {\n",
       "        vertical-align: top;\n",
       "    }\n",
       "\n",
       "    .dataframe thead th {\n",
       "        text-align: right;\n",
       "    }\n",
       "</style>\n",
       "<table border=\"1\" class=\"dataframe\">\n",
       "  <thead>\n",
       "    <tr style=\"text-align: right;\">\n",
       "      <th></th>\n",
       "      <th>flight_id</th>\n",
       "      <th>flight_no</th>\n",
       "      <th>arrival_airport</th>\n",
       "      <th>city</th>\n",
       "      <th>actual_departure</th>\n",
       "      <th>actual_arrival</th>\n",
       "      <th>flight_time</th>\n",
       "      <th>model</th>\n",
       "      <th>fuel_consum_kg_hr</th>\n",
       "      <th>aircraft_code</th>\n",
       "      <th>seat_economy</th>\n",
       "      <th>seat_bisiness</th>\n",
       "      <th>seat_total</th>\n",
       "      <th>flight_id.1</th>\n",
       "      <th>sold_economy</th>\n",
       "      <th>sold_bisiness</th>\n",
       "      <th>sold_total</th>\n",
       "      <th>amount_economy</th>\n",
       "      <th>amount_bisiness</th>\n",
       "      <th>amount_total</th>\n",
       "      <th>fuel_spent</th>\n",
       "      <th>fuel_cost</th>\n",
       "      <th>profit</th>\n",
       "      <th>seats_percent</th>\n",
       "    </tr>\n",
       "  </thead>\n",
       "  <tbody>\n",
       "    <tr>\n",
       "      <th>2</th>\n",
       "      <td>136122</td>\n",
       "      <td>PG0252</td>\n",
       "      <td>SVO</td>\n",
       "      <td>Moscow</td>\n",
       "      <td>2017-01-08 10:08:00+00:00</td>\n",
       "      <td>2017-01-08 11:48:00+00:00</td>\n",
       "      <td>1.666667</td>\n",
       "      <td>Boeing 737-300</td>\n",
       "      <td>2400</td>\n",
       "      <td>733</td>\n",
       "      <td>118</td>\n",
       "      <td>12</td>\n",
       "      <td>130</td>\n",
       "      <td>136122.0</td>\n",
       "      <td>87.0</td>\n",
       "      <td>10.0</td>\n",
       "      <td>97.0</td>\n",
       "      <td>1065000.0</td>\n",
       "      <td>366000.0</td>\n",
       "      <td>1431000.0</td>\n",
       "      <td>4000.000000</td>\n",
       "      <td>195880.000000</td>\n",
       "      <td>1235120</td>\n",
       "      <td>0.746154</td>\n",
       "    </tr>\n",
       "    <tr>\n",
       "      <th>12</th>\n",
       "      <td>136178</td>\n",
       "      <td>PG0252</td>\n",
       "      <td>SVO</td>\n",
       "      <td>Moscow</td>\n",
       "      <td>2017-01-29 10:10:00+00:00</td>\n",
       "      <td>2017-01-29 11:49:00+00:00</td>\n",
       "      <td>1.650000</td>\n",
       "      <td>Boeing 737-300</td>\n",
       "      <td>2400</td>\n",
       "      <td>733</td>\n",
       "      <td>118</td>\n",
       "      <td>12</td>\n",
       "      <td>130</td>\n",
       "      <td>136178.0</td>\n",
       "      <td>90.0</td>\n",
       "      <td>9.0</td>\n",
       "      <td>99.0</td>\n",
       "      <td>1105200.0</td>\n",
       "      <td>329400.0</td>\n",
       "      <td>1434600.0</td>\n",
       "      <td>3960.000000</td>\n",
       "      <td>193921.200000</td>\n",
       "      <td>1240678</td>\n",
       "      <td>0.761538</td>\n",
       "    </tr>\n",
       "    <tr>\n",
       "      <th>21</th>\n",
       "      <td>136250</td>\n",
       "      <td>PG0252</td>\n",
       "      <td>SVO</td>\n",
       "      <td>Moscow</td>\n",
       "      <td>2017-02-08 10:06:00+00:00</td>\n",
       "      <td>2017-02-08 11:47:00+00:00</td>\n",
       "      <td>1.683333</td>\n",
       "      <td>Boeing 737-300</td>\n",
       "      <td>2400</td>\n",
       "      <td>733</td>\n",
       "      <td>118</td>\n",
       "      <td>12</td>\n",
       "      <td>130</td>\n",
       "      <td>136250.0</td>\n",
       "      <td>91.0</td>\n",
       "      <td>8.0</td>\n",
       "      <td>99.0</td>\n",
       "      <td>1115000.0</td>\n",
       "      <td>292800.0</td>\n",
       "      <td>1407800.0</td>\n",
       "      <td>4040.000000</td>\n",
       "      <td>197838.800000</td>\n",
       "      <td>1209961</td>\n",
       "      <td>0.761538</td>\n",
       "    </tr>\n",
       "    <tr>\n",
       "      <th>38</th>\n",
       "      <td>136360</td>\n",
       "      <td>PG0252</td>\n",
       "      <td>SVO</td>\n",
       "      <td>Moscow</td>\n",
       "      <td>2017-02-05 10:08:00+00:00</td>\n",
       "      <td>2017-02-05 11:48:00+00:00</td>\n",
       "      <td>1.666667</td>\n",
       "      <td>Boeing 737-300</td>\n",
       "      <td>2400</td>\n",
       "      <td>733</td>\n",
       "      <td>118</td>\n",
       "      <td>12</td>\n",
       "      <td>130</td>\n",
       "      <td>136360.0</td>\n",
       "      <td>86.0</td>\n",
       "      <td>11.0</td>\n",
       "      <td>97.0</td>\n",
       "      <td>1052800.0</td>\n",
       "      <td>402600.0</td>\n",
       "      <td>1455400.0</td>\n",
       "      <td>4000.000000</td>\n",
       "      <td>195880.000000</td>\n",
       "      <td>1259520</td>\n",
       "      <td>0.746154</td>\n",
       "    </tr>\n",
       "    <tr>\n",
       "      <th>54</th>\n",
       "      <td>136464</td>\n",
       "      <td>PG0252</td>\n",
       "      <td>SVO</td>\n",
       "      <td>Moscow</td>\n",
       "      <td>2017-01-09 10:07:00+00:00</td>\n",
       "      <td>2017-01-09 11:47:00+00:00</td>\n",
       "      <td>1.666667</td>\n",
       "      <td>Boeing 737-300</td>\n",
       "      <td>2400</td>\n",
       "      <td>733</td>\n",
       "      <td>118</td>\n",
       "      <td>12</td>\n",
       "      <td>130</td>\n",
       "      <td>136464.0</td>\n",
       "      <td>93.0</td>\n",
       "      <td>7.0</td>\n",
       "      <td>100.0</td>\n",
       "      <td>1141800.0</td>\n",
       "      <td>256200.0</td>\n",
       "      <td>1398000.0</td>\n",
       "      <td>4000.000000</td>\n",
       "      <td>195880.000000</td>\n",
       "      <td>1202120</td>\n",
       "      <td>0.769231</td>\n",
       "    </tr>\n",
       "    <tr>\n",
       "      <th>68</th>\n",
       "      <td>136642</td>\n",
       "      <td>PG0480</td>\n",
       "      <td>EGO</td>\n",
       "      <td>Belgorod</td>\n",
       "      <td>2017-01-30 09:28:00+00:00</td>\n",
       "      <td>2017-01-30 10:17:00+00:00</td>\n",
       "      <td>0.816667</td>\n",
       "      <td>Sukhoi Superjet-100</td>\n",
       "      <td>1700</td>\n",
       "      <td>SU9</td>\n",
       "      <td>85</td>\n",
       "      <td>12</td>\n",
       "      <td>97</td>\n",
       "      <td>136642.0</td>\n",
       "      <td>54.0</td>\n",
       "      <td>10.0</td>\n",
       "      <td>64.0</td>\n",
       "      <td>342000.0</td>\n",
       "      <td>189000.0</td>\n",
       "      <td>531000.0</td>\n",
       "      <td>1388.333333</td>\n",
       "      <td>67986.683333</td>\n",
       "      <td>463013</td>\n",
       "      <td>0.659794</td>\n",
       "    </tr>\n",
       "    <tr>\n",
       "      <th>93</th>\n",
       "      <td>136807</td>\n",
       "      <td>PG0480</td>\n",
       "      <td>EGO</td>\n",
       "      <td>Belgorod</td>\n",
       "      <td>2017-02-23 09:28:00+00:00</td>\n",
       "      <td>2017-02-23 10:18:00+00:00</td>\n",
       "      <td>0.833333</td>\n",
       "      <td>Sukhoi Superjet-100</td>\n",
       "      <td>1700</td>\n",
       "      <td>SU9</td>\n",
       "      <td>85</td>\n",
       "      <td>12</td>\n",
       "      <td>97</td>\n",
       "      <td>136807.0</td>\n",
       "      <td>60.0</td>\n",
       "      <td>8.0</td>\n",
       "      <td>68.0</td>\n",
       "      <td>379800.0</td>\n",
       "      <td>151200.0</td>\n",
       "      <td>531000.0</td>\n",
       "      <td>1416.666667</td>\n",
       "      <td>69374.166667</td>\n",
       "      <td>461625</td>\n",
       "      <td>0.701031</td>\n",
       "    </tr>\n",
       "  </tbody>\n",
       "</table>\n",
       "</div>"
      ],
      "text/plain": [
       "    flight_id flight_no arrival_airport      city          actual_departure  \\\n",
       "2      136122    PG0252             SVO    Moscow 2017-01-08 10:08:00+00:00   \n",
       "12     136178    PG0252             SVO    Moscow 2017-01-29 10:10:00+00:00   \n",
       "21     136250    PG0252             SVO    Moscow 2017-02-08 10:06:00+00:00   \n",
       "38     136360    PG0252             SVO    Moscow 2017-02-05 10:08:00+00:00   \n",
       "54     136464    PG0252             SVO    Moscow 2017-01-09 10:07:00+00:00   \n",
       "68     136642    PG0480             EGO  Belgorod 2017-01-30 09:28:00+00:00   \n",
       "93     136807    PG0480             EGO  Belgorod 2017-02-23 09:28:00+00:00   \n",
       "\n",
       "              actual_arrival  flight_time                model  \\\n",
       "2  2017-01-08 11:48:00+00:00     1.666667       Boeing 737-300   \n",
       "12 2017-01-29 11:49:00+00:00     1.650000       Boeing 737-300   \n",
       "21 2017-02-08 11:47:00+00:00     1.683333       Boeing 737-300   \n",
       "38 2017-02-05 11:48:00+00:00     1.666667       Boeing 737-300   \n",
       "54 2017-01-09 11:47:00+00:00     1.666667       Boeing 737-300   \n",
       "68 2017-01-30 10:17:00+00:00     0.816667  Sukhoi Superjet-100   \n",
       "93 2017-02-23 10:18:00+00:00     0.833333  Sukhoi Superjet-100   \n",
       "\n",
       "    fuel_consum_kg_hr aircraft_code  seat_economy  seat_bisiness  seat_total  \\\n",
       "2                2400           733           118             12         130   \n",
       "12               2400           733           118             12         130   \n",
       "21               2400           733           118             12         130   \n",
       "38               2400           733           118             12         130   \n",
       "54               2400           733           118             12         130   \n",
       "68               1700           SU9            85             12          97   \n",
       "93               1700           SU9            85             12          97   \n",
       "\n",
       "    flight_id.1  sold_economy  sold_bisiness  sold_total  amount_economy  \\\n",
       "2      136122.0          87.0           10.0        97.0       1065000.0   \n",
       "12     136178.0          90.0            9.0        99.0       1105200.0   \n",
       "21     136250.0          91.0            8.0        99.0       1115000.0   \n",
       "38     136360.0          86.0           11.0        97.0       1052800.0   \n",
       "54     136464.0          93.0            7.0       100.0       1141800.0   \n",
       "68     136642.0          54.0           10.0        64.0        342000.0   \n",
       "93     136807.0          60.0            8.0        68.0        379800.0   \n",
       "\n",
       "    amount_bisiness  amount_total   fuel_spent      fuel_cost   profit  \\\n",
       "2          366000.0     1431000.0  4000.000000  195880.000000  1235120   \n",
       "12         329400.0     1434600.0  3960.000000  193921.200000  1240678   \n",
       "21         292800.0     1407800.0  4040.000000  197838.800000  1209961   \n",
       "38         402600.0     1455400.0  4000.000000  195880.000000  1259520   \n",
       "54         256200.0     1398000.0  4000.000000  195880.000000  1202120   \n",
       "68         189000.0      531000.0  1388.333333   67986.683333   463013   \n",
       "93         151200.0      531000.0  1416.666667   69374.166667   461625   \n",
       "\n",
       "    seats_percent  \n",
       "2        0.746154  \n",
       "12       0.761538  \n",
       "21       0.761538  \n",
       "38       0.746154  \n",
       "54       0.769231  \n",
       "68       0.659794  \n",
       "93       0.701031  "
      ]
     },
     "execution_count": 122,
     "metadata": {},
     "output_type": "execute_result"
    }
   ],
   "source": [
    "df[df.flight_id.isin(flight_unprofit)]"
   ]
  },
  {
   "cell_type": "code",
   "execution_count": null,
   "metadata": {},
   "outputs": [],
   "source": []
  }
 ],
 "metadata": {
  "kernelspec": {
   "display_name": "Python 3",
   "language": "python",
   "name": "python3"
  },
  "language_info": {
   "codemirror_mode": {
    "name": "ipython",
    "version": 3
   },
   "file_extension": ".py",
   "mimetype": "text/x-python",
   "name": "python",
   "nbconvert_exporter": "python",
   "pygments_lexer": "ipython3",
   "version": "3.8.3"
  }
 },
 "nbformat": 4,
 "nbformat_minor": 4
}
