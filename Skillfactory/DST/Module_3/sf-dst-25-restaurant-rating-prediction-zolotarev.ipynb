{
 "cells": [
  {
   "cell_type": "code",
   "execution_count": 1,
   "metadata": {
    "execution": {
     "iopub.execute_input": "2021-03-27T14:11:47.098099Z",
     "iopub.status.busy": "2021-03-27T14:11:47.097073Z",
     "iopub.status.idle": "2021-03-27T14:11:47.100443Z",
     "shell.execute_reply": "2021-03-27T14:11:47.101178Z"
    },
    "papermill": {
     "duration": 0.052036,
     "end_time": "2021-03-27T14:11:47.101365",
     "exception": false,
     "start_time": "2021-03-27T14:11:47.049329",
     "status": "completed"
    },
    "tags": []
   },
   "outputs": [],
   "source": [
    "# всегда фиксируйте RANDOM_SEED, чтобы ваши эксперименты были воспроизводимы!\n",
    "RANDOM_SEED = 42"
   ]
  },
  {
   "cell_type": "code",
   "execution_count": 2,
   "metadata": {
    "execution": {
     "iopub.execute_input": "2021-03-27T14:11:47.188347Z",
     "iopub.status.busy": "2021-03-27T14:11:47.187513Z",
     "iopub.status.idle": "2021-03-27T14:11:50.280877Z",
     "shell.execute_reply": "2021-03-27T14:11:50.280282Z"
    },
    "papermill": {
     "duration": 3.139292,
     "end_time": "2021-03-27T14:11:50.281013",
     "exception": false,
     "start_time": "2021-03-27T14:11:47.141721",
     "status": "completed"
    },
    "tags": []
   },
   "outputs": [],
   "source": [
    "# зафиксируем версию пакетов, чтобы эксперименты были воспроизводимы:\n",
    "!pip freeze > requirements.txt"
   ]
  },
  {
   "cell_type": "markdown",
   "metadata": {
    "_cell_guid": "79c7e3d0-c299-4dcb-8224-4455121ee9b0",
    "_uuid": "d629ff2d2480ee46fbb7e2d37f6b5fab8052498a",
    "collapsed": true,
    "papermill": {
     "duration": 0.039504,
     "end_time": "2021-03-27T14:11:50.361105",
     "exception": false,
     "start_time": "2021-03-27T14:11:50.321601",
     "status": "completed"
    },
    "tags": []
   },
   "source": [
    "# Итоговое задание по Проект 3. О вкусной и здоровой пище\n",
    "\n",
    "***\n",
    "### Импорт библиотек"
   ]
  },
  {
   "cell_type": "code",
   "execution_count": 3,
   "metadata": {
    "execution": {
     "iopub.execute_input": "2021-03-27T14:11:50.452095Z",
     "iopub.status.busy": "2021-03-27T14:11:50.451202Z",
     "iopub.status.idle": "2021-03-27T14:11:52.008367Z",
     "shell.execute_reply": "2021-03-27T14:11:52.007370Z"
    },
    "papermill": {
     "duration": 1.607297,
     "end_time": "2021-03-27T14:11:52.008530",
     "exception": false,
     "start_time": "2021-03-27T14:11:50.401233",
     "status": "completed"
    },
    "tags": []
   },
   "outputs": [],
   "source": [
    "from datetime import datetime\n",
    "from datetime import timedelta\n",
    "import numpy as np\n",
    "import pandas as pd\n",
    "import datetime\n",
    "import matplotlib.pyplot as plt\n",
    "import seaborn as sns \n",
    "%matplotlib inline\n",
    "import re\n",
    "from sklearn.model_selection import train_test_split # Загружаем специальный инструмент для разбивки:\n",
    "from sklearn.ensemble import RandomForestRegressor # инструмент для создания и обучения модели\n",
    "from sklearn import metrics # инструменты для оценки точности модели"
   ]
  },
  {
   "cell_type": "markdown",
   "metadata": {
    "papermill": {
     "duration": 0.041592,
     "end_time": "2021-03-27T14:11:52.090730",
     "exception": false,
     "start_time": "2021-03-27T14:11:52.049138",
     "status": "completed"
    },
    "tags": []
   },
   "source": [
    "### Импорт данных"
   ]
  },
  {
   "cell_type": "code",
   "execution_count": 4,
   "metadata": {
    "execution": {
     "iopub.execute_input": "2021-03-27T14:11:52.183485Z",
     "iopub.status.busy": "2021-03-27T14:11:52.182774Z",
     "iopub.status.idle": "2021-03-27T14:11:52.644209Z",
     "shell.execute_reply": "2021-03-27T14:11:52.643440Z"
    },
    "papermill": {
     "duration": 0.513333,
     "end_time": "2021-03-27T14:11:52.644333",
     "exception": false,
     "start_time": "2021-03-27T14:11:52.131000",
     "status": "completed"
    },
    "tags": []
   },
   "outputs": [
    {
     "data": {
      "text/html": [
       "<div>\n",
       "<style scoped>\n",
       "    .dataframe tbody tr th:only-of-type {\n",
       "        vertical-align: middle;\n",
       "    }\n",
       "\n",
       "    .dataframe tbody tr th {\n",
       "        vertical-align: top;\n",
       "    }\n",
       "\n",
       "    .dataframe thead th {\n",
       "        text-align: right;\n",
       "    }\n",
       "</style>\n",
       "<table border=\"1\" class=\"dataframe\">\n",
       "  <thead>\n",
       "    <tr style=\"text-align: right;\">\n",
       "      <th></th>\n",
       "      <th>Restaurant_id</th>\n",
       "      <th>City</th>\n",
       "      <th>Cuisine Style</th>\n",
       "      <th>Ranking</th>\n",
       "      <th>Rating</th>\n",
       "      <th>Price Range</th>\n",
       "      <th>Number of Reviews</th>\n",
       "      <th>Reviews</th>\n",
       "      <th>URL_TA</th>\n",
       "      <th>ID_TA</th>\n",
       "    </tr>\n",
       "  </thead>\n",
       "  <tbody>\n",
       "    <tr>\n",
       "      <th>0</th>\n",
       "      <td>id_5569</td>\n",
       "      <td>Paris</td>\n",
       "      <td>['European', 'French', 'International']</td>\n",
       "      <td>5570.0</td>\n",
       "      <td>3.5</td>\n",
       "      <td>$$ - $$$</td>\n",
       "      <td>194.0</td>\n",
       "      <td>[['Good food at your doorstep', 'A good hotel ...</td>\n",
       "      <td>/Restaurant_Review-g187147-d1912643-Reviews-R_...</td>\n",
       "      <td>d1912643</td>\n",
       "    </tr>\n",
       "    <tr>\n",
       "      <th>1</th>\n",
       "      <td>id_1535</td>\n",
       "      <td>Stockholm</td>\n",
       "      <td>NaN</td>\n",
       "      <td>1537.0</td>\n",
       "      <td>4.0</td>\n",
       "      <td>NaN</td>\n",
       "      <td>10.0</td>\n",
       "      <td>[['Unique cuisine', 'Delicious Nepalese food']...</td>\n",
       "      <td>/Restaurant_Review-g189852-d7992032-Reviews-Bu...</td>\n",
       "      <td>d7992032</td>\n",
       "    </tr>\n",
       "  </tbody>\n",
       "</table>\n",
       "</div>"
      ],
      "text/plain": [
       "  Restaurant_id       City                            Cuisine Style  Ranking  \\\n",
       "0       id_5569      Paris  ['European', 'French', 'International']   5570.0   \n",
       "1       id_1535  Stockholm                                      NaN   1537.0   \n",
       "\n",
       "   Rating Price Range  Number of Reviews  \\\n",
       "0     3.5    $$ - $$$              194.0   \n",
       "1     4.0         NaN               10.0   \n",
       "\n",
       "                                             Reviews  \\\n",
       "0  [['Good food at your doorstep', 'A good hotel ...   \n",
       "1  [['Unique cuisine', 'Delicious Nepalese food']...   \n",
       "\n",
       "                                              URL_TA     ID_TA  \n",
       "0  /Restaurant_Review-g187147-d1912643-Reviews-R_...  d1912643  \n",
       "1  /Restaurant_Review-g189852-d7992032-Reviews-Bu...  d7992032  "
      ]
     },
     "metadata": {},
     "output_type": "display_data"
    },
    {
     "data": {
      "text/html": [
       "<div>\n",
       "<style scoped>\n",
       "    .dataframe tbody tr th:only-of-type {\n",
       "        vertical-align: middle;\n",
       "    }\n",
       "\n",
       "    .dataframe tbody tr th {\n",
       "        vertical-align: top;\n",
       "    }\n",
       "\n",
       "    .dataframe thead th {\n",
       "        text-align: right;\n",
       "    }\n",
       "</style>\n",
       "<table border=\"1\" class=\"dataframe\">\n",
       "  <thead>\n",
       "    <tr style=\"text-align: right;\">\n",
       "      <th></th>\n",
       "      <th>Restaurant_id</th>\n",
       "      <th>City</th>\n",
       "      <th>Cuisine Style</th>\n",
       "      <th>Ranking</th>\n",
       "      <th>Price Range</th>\n",
       "      <th>Number of Reviews</th>\n",
       "      <th>Reviews</th>\n",
       "      <th>URL_TA</th>\n",
       "      <th>ID_TA</th>\n",
       "    </tr>\n",
       "  </thead>\n",
       "  <tbody>\n",
       "    <tr>\n",
       "      <th>0</th>\n",
       "      <td>id_0</td>\n",
       "      <td>Paris</td>\n",
       "      <td>['Bar', 'Pub']</td>\n",
       "      <td>12963.0</td>\n",
       "      <td>$$ - $$$</td>\n",
       "      <td>4.0</td>\n",
       "      <td>[[], []]</td>\n",
       "      <td>/Restaurant_Review-g187147-d10746918-Reviews-L...</td>\n",
       "      <td>d10746918</td>\n",
       "    </tr>\n",
       "    <tr>\n",
       "      <th>1</th>\n",
       "      <td>id_1</td>\n",
       "      <td>Helsinki</td>\n",
       "      <td>['European', 'Scandinavian', 'Gluten Free Opti...</td>\n",
       "      <td>106.0</td>\n",
       "      <td>$$ - $$$</td>\n",
       "      <td>97.0</td>\n",
       "      <td>[['Very good reviews!', 'Fine dining in Hakani...</td>\n",
       "      <td>/Restaurant_Review-g189934-d6674944-Reviews-Ra...</td>\n",
       "      <td>d6674944</td>\n",
       "    </tr>\n",
       "  </tbody>\n",
       "</table>\n",
       "</div>"
      ],
      "text/plain": [
       "  Restaurant_id      City                                      Cuisine Style  \\\n",
       "0          id_0     Paris                                     ['Bar', 'Pub']   \n",
       "1          id_1  Helsinki  ['European', 'Scandinavian', 'Gluten Free Opti...   \n",
       "\n",
       "   Ranking Price Range  Number of Reviews  \\\n",
       "0  12963.0    $$ - $$$                4.0   \n",
       "1    106.0    $$ - $$$               97.0   \n",
       "\n",
       "                                             Reviews  \\\n",
       "0                                           [[], []]   \n",
       "1  [['Very good reviews!', 'Fine dining in Hakani...   \n",
       "\n",
       "                                              URL_TA      ID_TA  \n",
       "0  /Restaurant_Review-g187147-d10746918-Reviews-L...  d10746918  \n",
       "1  /Restaurant_Review-g189934-d6674944-Reviews-Ra...   d6674944  "
      ]
     },
     "metadata": {},
     "output_type": "display_data"
    }
   ],
   "source": [
    "pd.set_option('display.max_columns', 200)\n",
    "DATA_DIR = '/kaggle/input/sf-dst-restaurant-rating/'\n",
    "df_train = pd.read_csv(DATA_DIR+'/main_task.csv')\n",
    "df_test = pd.read_csv(DATA_DIR+'kaggle_task.csv')\n",
    "sample_submission = pd.read_csv(DATA_DIR+'/sample_submission.csv')\n",
    "display(df_train.head(2))\n",
    "display(df_test.head(2))"
   ]
  },
  {
   "cell_type": "code",
   "execution_count": 5,
   "metadata": {
    "execution": {
     "iopub.execute_input": "2021-03-27T14:11:52.746041Z",
     "iopub.status.busy": "2021-03-27T14:11:52.737518Z",
     "iopub.status.idle": "2021-03-27T14:11:52.749879Z",
     "shell.execute_reply": "2021-03-27T14:11:52.749162Z"
    },
    "papermill": {
     "duration": 0.063564,
     "end_time": "2021-03-27T14:11:52.750013",
     "exception": false,
     "start_time": "2021-03-27T14:11:52.686449",
     "status": "completed"
    },
    "tags": []
   },
   "outputs": [
    {
     "name": "stdout",
     "output_type": "stream",
     "text": [
      "<class 'pandas.core.frame.DataFrame'>\n",
      "RangeIndex: 10000 entries, 0 to 9999\n",
      "Data columns (total 2 columns):\n",
      " #   Column         Non-Null Count  Dtype  \n",
      "---  ------         --------------  -----  \n",
      " 0   Restaurant_id  10000 non-null  object \n",
      " 1   Rating         10000 non-null  float64\n",
      "dtypes: float64(1), object(1)\n",
      "memory usage: 156.4+ KB\n"
     ]
    }
   ],
   "source": [
    "sample_submission.info()"
   ]
  },
  {
   "cell_type": "code",
   "execution_count": 6,
   "metadata": {
    "execution": {
     "iopub.execute_input": "2021-03-27T14:11:52.843382Z",
     "iopub.status.busy": "2021-03-27T14:11:52.840661Z",
     "iopub.status.idle": "2021-03-27T14:11:52.912185Z",
     "shell.execute_reply": "2021-03-27T14:11:52.911290Z"
    },
    "papermill": {
     "duration": 0.120215,
     "end_time": "2021-03-27T14:11:52.912315",
     "exception": false,
     "start_time": "2021-03-27T14:11:52.792100",
     "status": "completed"
    },
    "tags": []
   },
   "outputs": [
    {
     "data": {
      "text/html": [
       "<div>\n",
       "<style scoped>\n",
       "    .dataframe tbody tr th:only-of-type {\n",
       "        vertical-align: middle;\n",
       "    }\n",
       "\n",
       "    .dataframe tbody tr th {\n",
       "        vertical-align: top;\n",
       "    }\n",
       "\n",
       "    .dataframe thead th {\n",
       "        text-align: right;\n",
       "    }\n",
       "</style>\n",
       "<table border=\"1\" class=\"dataframe\">\n",
       "  <thead>\n",
       "    <tr style=\"text-align: right;\">\n",
       "      <th></th>\n",
       "      <th>Restaurant_id</th>\n",
       "      <th>City</th>\n",
       "      <th>Cuisine Style</th>\n",
       "      <th>Ranking</th>\n",
       "      <th>Price Range</th>\n",
       "      <th>Number of Reviews</th>\n",
       "      <th>Reviews</th>\n",
       "      <th>URL_TA</th>\n",
       "      <th>ID_TA</th>\n",
       "      <th>Sample</th>\n",
       "      <th>Rating</th>\n",
       "    </tr>\n",
       "  </thead>\n",
       "  <tbody>\n",
       "    <tr>\n",
       "      <th>29266</th>\n",
       "      <td>id_798</td>\n",
       "      <td>Amsterdam</td>\n",
       "      <td>['Bar', 'Pub', 'Dutch', 'European']</td>\n",
       "      <td>800.0</td>\n",
       "      <td>$$ - $$$</td>\n",
       "      <td>61.0</td>\n",
       "      <td>[['Best craft beer bar in Amsterdam', 'One of ...</td>\n",
       "      <td>/Restaurant_Review-g188590-d3349387-Reviews-Ca...</td>\n",
       "      <td>d3349387</td>\n",
       "      <td>1</td>\n",
       "      <td>4.5</td>\n",
       "    </tr>\n",
       "    <tr>\n",
       "      <th>39988</th>\n",
       "      <td>id_359</td>\n",
       "      <td>Zurich</td>\n",
       "      <td>['Indian', 'Asian', 'Vegetarian Friendly', 'Ve...</td>\n",
       "      <td>361.0</td>\n",
       "      <td>$$ - $$$</td>\n",
       "      <td>128.0</td>\n",
       "      <td>[['Nice Dinner, friendly Service and comforta....</td>\n",
       "      <td>/Restaurant_Review-g188113-d1443491-Reviews-Ta...</td>\n",
       "      <td>d1443491</td>\n",
       "      <td>1</td>\n",
       "      <td>4.0</td>\n",
       "    </tr>\n",
       "    <tr>\n",
       "      <th>1940</th>\n",
       "      <td>id_1940</td>\n",
       "      <td>Paris</td>\n",
       "      <td>['Chinese']</td>\n",
       "      <td>4881.0</td>\n",
       "      <td>$$ - $$$</td>\n",
       "      <td>18.0</td>\n",
       "      <td>[['Food is Fantastic and Big Portion', 'Betwee...</td>\n",
       "      <td>/Restaurant_Review-g187147-d11014392-Reviews-S...</td>\n",
       "      <td>d11014392</td>\n",
       "      <td>0</td>\n",
       "      <td>0.0</td>\n",
       "    </tr>\n",
       "    <tr>\n",
       "      <th>10049</th>\n",
       "      <td>id_1048</td>\n",
       "      <td>Paris</td>\n",
       "      <td>['French', 'European', 'Vegetarian Friendly']</td>\n",
       "      <td>1049.0</td>\n",
       "      <td>$$$$</td>\n",
       "      <td>281.0</td>\n",
       "      <td>[['Amazing French cuisine', 'One of our best m...</td>\n",
       "      <td>/Restaurant_Review-g187147-d719083-Reviews-Le_...</td>\n",
       "      <td>d719083</td>\n",
       "      <td>1</td>\n",
       "      <td>4.5</td>\n",
       "    </tr>\n",
       "    <tr>\n",
       "      <th>35034</th>\n",
       "      <td>id_1890</td>\n",
       "      <td>Amsterdam</td>\n",
       "      <td>NaN</td>\n",
       "      <td>1895.0</td>\n",
       "      <td>NaN</td>\n",
       "      <td>10.0</td>\n",
       "      <td>[['No Jelly Donuts available; only special or....</td>\n",
       "      <td>/Restaurant_Review-g188590-d12367475-Reviews-D...</td>\n",
       "      <td>d12367475</td>\n",
       "      <td>1</td>\n",
       "      <td>4.0</td>\n",
       "    </tr>\n",
       "  </tbody>\n",
       "</table>\n",
       "</div>"
      ],
      "text/plain": [
       "      Restaurant_id       City  \\\n",
       "29266        id_798  Amsterdam   \n",
       "39988        id_359     Zurich   \n",
       "1940        id_1940      Paris   \n",
       "10049       id_1048      Paris   \n",
       "35034       id_1890  Amsterdam   \n",
       "\n",
       "                                           Cuisine Style  Ranking Price Range  \\\n",
       "29266                ['Bar', 'Pub', 'Dutch', 'European']    800.0    $$ - $$$   \n",
       "39988  ['Indian', 'Asian', 'Vegetarian Friendly', 'Ve...    361.0    $$ - $$$   \n",
       "1940                                         ['Chinese']   4881.0    $$ - $$$   \n",
       "10049      ['French', 'European', 'Vegetarian Friendly']   1049.0        $$$$   \n",
       "35034                                                NaN   1895.0         NaN   \n",
       "\n",
       "       Number of Reviews                                            Reviews  \\\n",
       "29266               61.0  [['Best craft beer bar in Amsterdam', 'One of ...   \n",
       "39988              128.0  [['Nice Dinner, friendly Service and comforta....   \n",
       "1940                18.0  [['Food is Fantastic and Big Portion', 'Betwee...   \n",
       "10049              281.0  [['Amazing French cuisine', 'One of our best m...   \n",
       "35034               10.0  [['No Jelly Donuts available; only special or....   \n",
       "\n",
       "                                                  URL_TA      ID_TA  Sample  \\\n",
       "29266  /Restaurant_Review-g188590-d3349387-Reviews-Ca...   d3349387       1   \n",
       "39988  /Restaurant_Review-g188113-d1443491-Reviews-Ta...   d1443491       1   \n",
       "1940   /Restaurant_Review-g187147-d11014392-Reviews-S...  d11014392       0   \n",
       "10049  /Restaurant_Review-g187147-d719083-Reviews-Le_...    d719083       1   \n",
       "35034  /Restaurant_Review-g188590-d12367475-Reviews-D...  d12367475       1   \n",
       "\n",
       "       Rating  \n",
       "29266     4.5  \n",
       "39988     4.0  \n",
       "1940      0.0  \n",
       "10049     4.5  \n",
       "35034     4.0  "
      ]
     },
     "execution_count": 6,
     "metadata": {},
     "output_type": "execute_result"
    }
   ],
   "source": [
    "# ВАЖНО! дря корректной обработки признаков объединяем трейн и тест в один датасет\n",
    "df_train['Sample'] = 1 # помечаем где у нас трейн\n",
    "df_test['Sample'] = 0 # помечаем где у нас тест\n",
    "df_test['Rating'] = 0 # в тесте у нас нет значения Rating, мы его должны предсказать, по этому пока просто заполняем нулями\n",
    "\n",
    "df = df_test.append(df_train, sort=False).reset_index(drop=True) # объединяем\n",
    "\n",
    "df.sample(5)"
   ]
  },
  {
   "cell_type": "code",
   "execution_count": 7,
   "metadata": {
    "execution": {
     "iopub.execute_input": "2021-03-27T14:11:53.006177Z",
     "iopub.status.busy": "2021-03-27T14:11:53.005192Z",
     "iopub.status.idle": "2021-03-27T14:11:53.008711Z",
     "shell.execute_reply": "2021-03-27T14:11:53.008185Z"
    },
    "papermill": {
     "duration": 0.053257,
     "end_time": "2021-03-27T14:11:53.008844",
     "exception": false,
     "start_time": "2021-03-27T14:11:52.955587",
     "status": "completed"
    },
    "tags": []
   },
   "outputs": [],
   "source": [
    "df.columns = ['Restaurant_id', 'City', 'Cuisine_Style', 'Ranking', 'Price_Range',\n",
    "       'Number_of_Reviews', 'Reviews', 'URL_TA', 'ID_TA', 'Sample', 'Rating']"
   ]
  },
  {
   "cell_type": "markdown",
   "metadata": {
    "papermill": {
     "duration": 0.043653,
     "end_time": "2021-03-27T14:11:53.096116",
     "exception": false,
     "start_time": "2021-03-27T14:11:53.052463",
     "status": "completed"
    },
    "tags": []
   },
   "source": [
    "## Детальный анализ по переменным\n",
    "***"
   ]
  },
  {
   "cell_type": "code",
   "execution_count": 8,
   "metadata": {
    "execution": {
     "iopub.execute_input": "2021-03-27T14:11:53.188924Z",
     "iopub.status.busy": "2021-03-27T14:11:53.188219Z",
     "iopub.status.idle": "2021-03-27T14:11:53.236293Z",
     "shell.execute_reply": "2021-03-27T14:11:53.236795Z"
    },
    "papermill": {
     "duration": 0.098199,
     "end_time": "2021-03-27T14:11:53.236970",
     "exception": false,
     "start_time": "2021-03-27T14:11:53.138771",
     "status": "completed"
    },
    "tags": []
   },
   "outputs": [
    {
     "name": "stdout",
     "output_type": "stream",
     "text": [
      "<class 'pandas.core.frame.DataFrame'>\n",
      "RangeIndex: 50000 entries, 0 to 49999\n",
      "Data columns (total 11 columns):\n",
      " #   Column             Non-Null Count  Dtype  \n",
      "---  ------             --------------  -----  \n",
      " 0   Restaurant_id      50000 non-null  object \n",
      " 1   City               50000 non-null  object \n",
      " 2   Cuisine_Style      38410 non-null  object \n",
      " 3   Ranking            50000 non-null  float64\n",
      " 4   Price_Range        32639 non-null  object \n",
      " 5   Number_of_Reviews  46800 non-null  float64\n",
      " 6   Reviews            49998 non-null  object \n",
      " 7   URL_TA             50000 non-null  object \n",
      " 8   ID_TA              50000 non-null  object \n",
      " 9   Sample             50000 non-null  int64  \n",
      " 10  Rating             50000 non-null  float64\n",
      "dtypes: float64(3), int64(1), object(7)\n",
      "memory usage: 4.2+ MB\n"
     ]
    }
   ],
   "source": [
    "df.info()"
   ]
  },
  {
   "cell_type": "markdown",
   "metadata": {
    "papermill": {
     "duration": 0.043015,
     "end_time": "2021-03-27T14:11:53.323439",
     "exception": false,
     "start_time": "2021-03-27T14:11:53.280424",
     "status": "completed"
    },
    "tags": []
   },
   "source": [
    "### 1. Restaurant_id \n",
    "##### — идентификационный номер ресторана / сети ресторанов;"
   ]
  },
  {
   "cell_type": "code",
   "execution_count": 9,
   "metadata": {
    "execution": {
     "iopub.execute_input": "2021-03-27T14:11:53.427964Z",
     "iopub.status.busy": "2021-03-27T14:11:53.417449Z",
     "iopub.status.idle": "2021-03-27T14:11:53.475032Z",
     "shell.execute_reply": "2021-03-27T14:11:53.474338Z"
    },
    "papermill": {
     "duration": 0.107723,
     "end_time": "2021-03-27T14:11:53.475150",
     "exception": false,
     "start_time": "2021-03-27T14:11:53.367427",
     "status": "completed"
    },
    "tags": []
   },
   "outputs": [
    {
     "data": {
      "text/html": [
       "<div>\n",
       "<style scoped>\n",
       "    .dataframe tbody tr th:only-of-type {\n",
       "        vertical-align: middle;\n",
       "    }\n",
       "\n",
       "    .dataframe tbody tr th {\n",
       "        vertical-align: top;\n",
       "    }\n",
       "\n",
       "    .dataframe thead th {\n",
       "        text-align: right;\n",
       "    }\n",
       "</style>\n",
       "<table border=\"1\" class=\"dataframe\">\n",
       "  <thead>\n",
       "    <tr style=\"text-align: right;\">\n",
       "      <th></th>\n",
       "      <th>Restaurant_id</th>\n",
       "      <th>City</th>\n",
       "      <th>Cuisine_Style</th>\n",
       "      <th>Ranking</th>\n",
       "      <th>Price_Range</th>\n",
       "      <th>Number_of_Reviews</th>\n",
       "      <th>Reviews</th>\n",
       "      <th>URL_TA</th>\n",
       "      <th>ID_TA</th>\n",
       "      <th>Sample</th>\n",
       "      <th>Rating</th>\n",
       "    </tr>\n",
       "  </thead>\n",
       "  <tbody>\n",
       "    <tr>\n",
       "      <th>0</th>\n",
       "      <td>0.0</td>\n",
       "      <td>Paris</td>\n",
       "      <td>['Bar', 'Pub']</td>\n",
       "      <td>12963.0</td>\n",
       "      <td>$$ - $$$</td>\n",
       "      <td>4.0</td>\n",
       "      <td>[[], []]</td>\n",
       "      <td>/Restaurant_Review-g187147-d10746918-Reviews-L...</td>\n",
       "      <td>d10746918</td>\n",
       "      <td>0</td>\n",
       "      <td>0.0</td>\n",
       "    </tr>\n",
       "    <tr>\n",
       "      <th>1</th>\n",
       "      <td>1.0</td>\n",
       "      <td>Helsinki</td>\n",
       "      <td>['European', 'Scandinavian', 'Gluten Free Opti...</td>\n",
       "      <td>106.0</td>\n",
       "      <td>$$ - $$$</td>\n",
       "      <td>97.0</td>\n",
       "      <td>[['Very good reviews!', 'Fine dining in Hakani...</td>\n",
       "      <td>/Restaurant_Review-g189934-d6674944-Reviews-Ra...</td>\n",
       "      <td>d6674944</td>\n",
       "      <td>0</td>\n",
       "      <td>0.0</td>\n",
       "    </tr>\n",
       "    <tr>\n",
       "      <th>2</th>\n",
       "      <td>2.0</td>\n",
       "      <td>Edinburgh</td>\n",
       "      <td>['Vegetarian Friendly']</td>\n",
       "      <td>810.0</td>\n",
       "      <td>$$ - $$$</td>\n",
       "      <td>28.0</td>\n",
       "      <td>[['Better than the Links', 'Ivy Black'], ['12/...</td>\n",
       "      <td>/Restaurant_Review-g186525-d13129638-Reviews-B...</td>\n",
       "      <td>d13129638</td>\n",
       "      <td>0</td>\n",
       "      <td>0.0</td>\n",
       "    </tr>\n",
       "  </tbody>\n",
       "</table>\n",
       "</div>"
      ],
      "text/plain": [
       "   Restaurant_id       City  \\\n",
       "0            0.0      Paris   \n",
       "1            1.0   Helsinki   \n",
       "2            2.0  Edinburgh   \n",
       "\n",
       "                                       Cuisine_Style  Ranking Price_Range  \\\n",
       "0                                     ['Bar', 'Pub']  12963.0    $$ - $$$   \n",
       "1  ['European', 'Scandinavian', 'Gluten Free Opti...    106.0    $$ - $$$   \n",
       "2                            ['Vegetarian Friendly']    810.0    $$ - $$$   \n",
       "\n",
       "   Number_of_Reviews                                            Reviews  \\\n",
       "0                4.0                                           [[], []]   \n",
       "1               97.0  [['Very good reviews!', 'Fine dining in Hakani...   \n",
       "2               28.0  [['Better than the Links', 'Ivy Black'], ['12/...   \n",
       "\n",
       "                                              URL_TA      ID_TA  Sample  \\\n",
       "0  /Restaurant_Review-g187147-d10746918-Reviews-L...  d10746918       0   \n",
       "1  /Restaurant_Review-g189934-d6674944-Reviews-Ra...   d6674944       0   \n",
       "2  /Restaurant_Review-g186525-d13129638-Reviews-B...  d13129638       0   \n",
       "\n",
       "   Rating  \n",
       "0     0.0  \n",
       "1     0.0  \n",
       "2     0.0  "
      ]
     },
     "execution_count": 9,
     "metadata": {},
     "output_type": "execute_result"
    }
   ],
   "source": [
    "df['Restaurant_id'] = df['Restaurant_id'].apply(lambda x: float(x[3:]))\n",
    "df.head(3)"
   ]
  },
  {
   "cell_type": "markdown",
   "metadata": {
    "papermill": {
     "duration": 0.043969,
     "end_time": "2021-03-27T14:11:53.563416",
     "exception": false,
     "start_time": "2021-03-27T14:11:53.519447",
     "status": "completed"
    },
    "tags": []
   },
   "source": [
    "#### Переменная Restaurant_id\n",
    "Преобразован идентификационный номер ресторана в числовое значение.\\\n",
    "Визуально видно, что данный признак схож с признаком Ranking.\\\n",
    "Пока что оставим его, но впоследствии проверим их корреляцию."
   ]
  },
  {
   "cell_type": "markdown",
   "metadata": {
    "papermill": {
     "duration": 0.043899,
     "end_time": "2021-03-27T14:11:53.651378",
     "exception": false,
     "start_time": "2021-03-27T14:11:53.607479",
     "status": "completed"
    },
    "tags": []
   },
   "source": [
    "### 2. City\n",
    "##### — город, в котором находится ресторан;"
   ]
  },
  {
   "cell_type": "markdown",
   "metadata": {
    "papermill": {
     "duration": 0.04354,
     "end_time": "2021-03-27T14:11:53.739237",
     "exception": false,
     "start_time": "2021-03-27T14:11:53.695697",
     "status": "completed"
    },
    "tags": []
   },
   "source": [
    "Введем признак столичного расположения ресторана"
   ]
  },
  {
   "cell_type": "code",
   "execution_count": 10,
   "metadata": {
    "execution": {
     "iopub.execute_input": "2021-03-27T14:11:53.838090Z",
     "iopub.status.busy": "2021-03-27T14:11:53.837000Z",
     "iopub.status.idle": "2021-03-27T14:11:53.848542Z",
     "shell.execute_reply": "2021-03-27T14:11:53.849531Z"
    },
    "papermill": {
     "duration": 0.066203,
     "end_time": "2021-03-27T14:11:53.849757",
     "exception": false,
     "start_time": "2021-03-27T14:11:53.783554",
     "status": "completed"
    },
    "tags": []
   },
   "outputs": [
    {
     "name": "stdout",
     "output_type": "stream",
     "text": [
      "Количество городов в датасете - 31\n",
      "['Paris' 'Helsinki' 'Edinburgh' 'London' 'Bratislava' 'Lisbon' 'Budapest'\n",
      " 'Stockholm' 'Rome' 'Milan' 'Munich' 'Hamburg' 'Prague' 'Vienna' 'Dublin'\n",
      " 'Barcelona' 'Brussels' 'Madrid' 'Oslo' 'Amsterdam' 'Berlin' 'Lyon'\n",
      " 'Athens' 'Warsaw' 'Oporto' 'Krakow' 'Copenhagen' 'Luxembourg' 'Zurich'\n",
      " 'Geneva' 'Ljubljana']\n"
     ]
    }
   ],
   "source": [
    "print(f'Количество городов в датасете - {len(df.City.unique())}')\n",
    "print(df.City.unique())"
   ]
  },
  {
   "cell_type": "markdown",
   "metadata": {
    "papermill": {
     "duration": 0.044411,
     "end_time": "2021-03-27T14:11:53.939183",
     "exception": false,
     "start_time": "2021-03-27T14:11:53.894772",
     "status": "completed"
    },
    "tags": []
   },
   "source": [
    "Введем признак столичного расположения ресторана"
   ]
  },
  {
   "cell_type": "code",
   "execution_count": 11,
   "metadata": {
    "execution": {
     "iopub.execute_input": "2021-03-27T14:11:54.034712Z",
     "iopub.status.busy": "2021-03-27T14:11:54.033644Z",
     "iopub.status.idle": "2021-03-27T14:11:54.036260Z",
     "shell.execute_reply": "2021-03-27T14:11:54.036863Z"
    },
    "papermill": {
     "duration": 0.052707,
     "end_time": "2021-03-27T14:11:54.037050",
     "exception": false,
     "start_time": "2021-03-27T14:11:53.984343",
     "status": "completed"
    },
    "tags": []
   },
   "outputs": [],
   "source": [
    "not_capital = [\"Krakow\", \"Lyon\",\"Zurich\",\"Hamburg\",\"Barcelona\",\"Oporto\",\"Munich\",\"Milan\",\"Geneva\"]"
   ]
  },
  {
   "cell_type": "code",
   "execution_count": 12,
   "metadata": {
    "execution": {
     "iopub.execute_input": "2021-03-27T14:11:54.130662Z",
     "iopub.status.busy": "2021-03-27T14:11:54.129665Z",
     "iopub.status.idle": "2021-03-27T14:11:54.163101Z",
     "shell.execute_reply": "2021-03-27T14:11:54.163828Z"
    },
    "papermill": {
     "duration": 0.08255,
     "end_time": "2021-03-27T14:11:54.164064",
     "exception": false,
     "start_time": "2021-03-27T14:11:54.081514",
     "status": "completed"
    },
    "tags": []
   },
   "outputs": [
    {
     "name": "stdout",
     "output_type": "stream",
     "text": [
      "Количество ресторанов в столицах:37983\n",
      "Количество остальных ресторанов :12017\n"
     ]
    }
   ],
   "source": [
    "capital_rest=[]\n",
    "other_city_rest=[]\n",
    "for i in df['City']:\n",
    "    if i in not_capital:\n",
    "        other_city_rest.append(i)\n",
    "    else:\n",
    "        capital_rest.append(i)\n",
    "        \n",
    "print(f'Количество ресторанов в столицах:{len(capital_rest)}')\n",
    "print(f'Количество остальных ресторанов :{len(other_city_rest)}')"
   ]
  },
  {
   "cell_type": "code",
   "execution_count": 13,
   "metadata": {
    "execution": {
     "iopub.execute_input": "2021-03-27T14:11:54.270866Z",
     "iopub.status.busy": "2021-03-27T14:11:54.260579Z",
     "iopub.status.idle": "2021-03-27T14:11:54.315980Z",
     "shell.execute_reply": "2021-03-27T14:11:54.315287Z"
    },
    "papermill": {
     "duration": 0.106716,
     "end_time": "2021-03-27T14:11:54.316098",
     "exception": false,
     "start_time": "2021-03-27T14:11:54.209382",
     "status": "completed"
    },
    "tags": []
   },
   "outputs": [
    {
     "data": {
      "text/html": [
       "<div>\n",
       "<style scoped>\n",
       "    .dataframe tbody tr th:only-of-type {\n",
       "        vertical-align: middle;\n",
       "    }\n",
       "\n",
       "    .dataframe tbody tr th {\n",
       "        vertical-align: top;\n",
       "    }\n",
       "\n",
       "    .dataframe thead th {\n",
       "        text-align: right;\n",
       "    }\n",
       "</style>\n",
       "<table border=\"1\" class=\"dataframe\">\n",
       "  <thead>\n",
       "    <tr style=\"text-align: right;\">\n",
       "      <th></th>\n",
       "      <th>Capital_restaurant</th>\n",
       "    </tr>\n",
       "  </thead>\n",
       "  <tbody>\n",
       "    <tr>\n",
       "      <th>3766</th>\n",
       "      <td>1</td>\n",
       "    </tr>\n",
       "    <tr>\n",
       "      <th>43228</th>\n",
       "      <td>1</td>\n",
       "    </tr>\n",
       "    <tr>\n",
       "      <th>21950</th>\n",
       "      <td>0</td>\n",
       "    </tr>\n",
       "    <tr>\n",
       "      <th>34653</th>\n",
       "      <td>0</td>\n",
       "    </tr>\n",
       "    <tr>\n",
       "      <th>28569</th>\n",
       "      <td>1</td>\n",
       "    </tr>\n",
       "  </tbody>\n",
       "</table>\n",
       "</div>"
      ],
      "text/plain": [
       "       Capital_restaurant\n",
       "3766                    1\n",
       "43228                   1\n",
       "21950                   0\n",
       "34653                   0\n",
       "28569                   1"
      ]
     },
     "execution_count": 13,
     "metadata": {},
     "output_type": "execute_result"
    }
   ],
   "source": [
    "df['Capital_restaurant']=df['City'].apply(lambda x: 0 if x in not_capital else 1)\n",
    "df[['Capital_restaurant']].sample(5)"
   ]
  },
  {
   "cell_type": "markdown",
   "metadata": {
    "papermill": {
     "duration": 0.045198,
     "end_time": "2021-03-27T14:11:54.408392",
     "exception": false,
     "start_time": "2021-03-27T14:11:54.363194",
     "status": "completed"
    },
    "tags": []
   },
   "source": [
    "Переведем признак City в dummy-переменные"
   ]
  },
  {
   "cell_type": "code",
   "execution_count": 14,
   "metadata": {
    "execution": {
     "iopub.execute_input": "2021-03-27T14:11:54.509323Z",
     "iopub.status.busy": "2021-03-27T14:11:54.508538Z",
     "iopub.status.idle": "2021-03-27T14:11:54.540512Z",
     "shell.execute_reply": "2021-03-27T14:11:54.539773Z"
    },
    "papermill": {
     "duration": 0.086656,
     "end_time": "2021-03-27T14:11:54.540642",
     "exception": false,
     "start_time": "2021-03-27T14:11:54.453986",
     "status": "completed"
    },
    "tags": []
   },
   "outputs": [],
   "source": [
    "df_City_dummies = pd.get_dummies(df['City'], dummy_na=False).astype('float64')\n",
    "df = pd.concat([df,df_City_dummies], axis=1)"
   ]
  },
  {
   "cell_type": "markdown",
   "metadata": {
    "papermill": {
     "duration": 0.045378,
     "end_time": "2021-03-27T14:11:54.631775",
     "exception": false,
     "start_time": "2021-03-27T14:11:54.586397",
     "status": "completed"
    },
    "tags": []
   },
   "source": [
    "#### Переменная City\n",
    "Без пропусков, категориальный признак.\n",
    "Сгенерированы новые признаки города по типу dummies.\\\n",
    "А также численный признак столичного расположения ресторана - Capital_restaurant."
   ]
  },
  {
   "cell_type": "markdown",
   "metadata": {
    "papermill": {
     "duration": 0.045435,
     "end_time": "2021-03-27T14:11:54.722923",
     "exception": false,
     "start_time": "2021-03-27T14:11:54.677488",
     "status": "completed"
    },
    "tags": []
   },
   "source": [
    "### 3. Cuisine_Style\n",
    "##### — кухня или кухни, к которым можно отнести блюда, предлагаемые в ресторане;"
   ]
  },
  {
   "cell_type": "markdown",
   "metadata": {
    "papermill": {
     "duration": 0.045103,
     "end_time": "2021-03-27T14:11:54.813538",
     "exception": false,
     "start_time": "2021-03-27T14:11:54.768435",
     "status": "completed"
    },
    "tags": []
   },
   "source": []
  },
  {
   "cell_type": "code",
   "execution_count": 15,
   "metadata": {
    "execution": {
     "iopub.execute_input": "2021-03-27T14:11:54.916328Z",
     "iopub.status.busy": "2021-03-27T14:11:54.915417Z",
     "iopub.status.idle": "2021-03-27T14:11:54.923272Z",
     "shell.execute_reply": "2021-03-27T14:11:54.922496Z"
    },
    "papermill": {
     "duration": 0.064258,
     "end_time": "2021-03-27T14:11:54.923415",
     "exception": false,
     "start_time": "2021-03-27T14:11:54.859157",
     "status": "completed"
    },
    "tags": []
   },
   "outputs": [
    {
     "data": {
      "text/plain": [
       "0.0    38410\n",
       "1.0    11590\n",
       "Name: Cuisine_Style, dtype: int64"
      ]
     },
     "metadata": {},
     "output_type": "display_data"
    }
   ],
   "source": [
    "display((pd.isna(df['Cuisine_Style']).astype('float64')).value_counts())"
   ]
  },
  {
   "cell_type": "code",
   "execution_count": 16,
   "metadata": {
    "execution": {
     "iopub.execute_input": "2021-03-27T14:11:55.029997Z",
     "iopub.status.busy": "2021-03-27T14:11:55.029248Z",
     "iopub.status.idle": "2021-03-27T14:11:55.250214Z",
     "shell.execute_reply": "2021-03-27T14:11:55.250742Z"
    },
    "papermill": {
     "duration": 0.280144,
     "end_time": "2021-03-27T14:11:55.250978",
     "exception": false,
     "start_time": "2021-03-27T14:11:54.970834",
     "status": "completed"
    },
    "tags": []
   },
   "outputs": [],
   "source": [
    "# проведем обработку значений переменной\n",
    "df['Cuisine_Style']= df['Cuisine_Style'].str.replace(r'[\\[\\]\\']','')\n",
    "# заполним пропуски значением 'Unspecified'\n",
    "df['Cuisine_Style'] = df['Cuisine_Style'].fillna('Unspecified')\n",
    "#посчитаем количество кухонь в каждом ресторане\n",
    "df['Сount_Сuisine'] = df.Cuisine_Style.apply(lambda x: len(x.split(',')))"
   ]
  },
  {
   "cell_type": "markdown",
   "metadata": {
    "papermill": {
     "duration": 0.047524,
     "end_time": "2021-03-27T14:11:55.346551",
     "exception": false,
     "start_time": "2021-03-27T14:11:55.299027",
     "status": "completed"
    },
    "tags": []
   },
   "source": [
    "Переменная Cuisine_Style\n",
    "11590 пропусков, заменим их на значение - 'Unspecified'.\\\n",
    "Сгенерирован новый признак количества кухонь в каждом ресторане - 'Сount_Сuisine'"
   ]
  },
  {
   "cell_type": "markdown",
   "metadata": {
    "papermill": {
     "duration": 0.047295,
     "end_time": "2021-03-27T14:11:55.441639",
     "exception": false,
     "start_time": "2021-03-27T14:11:55.394344",
     "status": "completed"
    },
    "tags": []
   },
   "source": [
    "### 4. Ranking\n",
    "##### — место, которое занимает данный ресторан среди всех ресторанов своего города;"
   ]
  },
  {
   "cell_type": "code",
   "execution_count": 17,
   "metadata": {
    "execution": {
     "iopub.execute_input": "2021-03-27T14:11:55.539262Z",
     "iopub.status.busy": "2021-03-27T14:11:55.538545Z",
     "iopub.status.idle": "2021-03-27T14:11:55.552212Z",
     "shell.execute_reply": "2021-03-27T14:11:55.552850Z"
    },
    "papermill": {
     "duration": 0.064616,
     "end_time": "2021-03-27T14:11:55.553030",
     "exception": false,
     "start_time": "2021-03-27T14:11:55.488414",
     "status": "completed"
    },
    "tags": []
   },
   "outputs": [
    {
     "data": {
      "text/plain": [
       "count    50000.000000\n",
       "mean      3664.427520\n",
       "std       3700.092452\n",
       "min          1.000000\n",
       "25%        972.000000\n",
       "50%       2278.000000\n",
       "75%       5241.000000\n",
       "max      16444.000000\n",
       "Name: Ranking, dtype: float64"
      ]
     },
     "execution_count": 17,
     "metadata": {},
     "output_type": "execute_result"
    }
   ],
   "source": [
    "df.Ranking.describe()"
   ]
  },
  {
   "cell_type": "code",
   "execution_count": 18,
   "metadata": {
    "execution": {
     "iopub.execute_input": "2021-03-27T14:11:55.651304Z",
     "iopub.status.busy": "2021-03-27T14:11:55.650412Z",
     "iopub.status.idle": "2021-03-27T14:11:55.696958Z",
     "shell.execute_reply": "2021-03-27T14:11:55.696230Z"
    },
    "papermill": {
     "duration": 0.096582,
     "end_time": "2021-03-27T14:11:55.697088",
     "exception": false,
     "start_time": "2021-03-27T14:11:55.600506",
     "status": "completed"
    },
    "tags": []
   },
   "outputs": [
    {
     "data": {
      "text/html": [
       "<div>\n",
       "<style scoped>\n",
       "    .dataframe tbody tr th:only-of-type {\n",
       "        vertical-align: middle;\n",
       "    }\n",
       "\n",
       "    .dataframe tbody tr th {\n",
       "        vertical-align: top;\n",
       "    }\n",
       "\n",
       "    .dataframe thead th {\n",
       "        text-align: right;\n",
       "    }\n",
       "</style>\n",
       "<table border=\"1\" class=\"dataframe\">\n",
       "  <thead>\n",
       "    <tr style=\"text-align: right;\">\n",
       "      <th></th>\n",
       "      <th>Restaurant_id</th>\n",
       "      <th>Ranking</th>\n",
       "    </tr>\n",
       "  </thead>\n",
       "  <tbody>\n",
       "    <tr>\n",
       "      <th>Restaurant_id</th>\n",
       "      <td>1.00000</td>\n",
       "      <td>0.82509</td>\n",
       "    </tr>\n",
       "    <tr>\n",
       "      <th>Ranking</th>\n",
       "      <td>0.82509</td>\n",
       "      <td>1.00000</td>\n",
       "    </tr>\n",
       "  </tbody>\n",
       "</table>\n",
       "</div>"
      ],
      "text/plain": [
       "               Restaurant_id  Ranking\n",
       "Restaurant_id        1.00000  0.82509\n",
       "Ranking              0.82509  1.00000"
      ]
     },
     "execution_count": 18,
     "metadata": {},
     "output_type": "execute_result"
    }
   ],
   "source": [
    "df[['Restaurant_id','Ranking']].corr()"
   ]
  },
  {
   "cell_type": "code",
   "execution_count": 19,
   "metadata": {
    "execution": {
     "iopub.execute_input": "2021-03-27T14:11:55.802374Z",
     "iopub.status.busy": "2021-03-27T14:11:55.801352Z",
     "iopub.status.idle": "2021-03-27T14:11:55.817584Z",
     "shell.execute_reply": "2021-03-27T14:11:55.817024Z"
    },
    "papermill": {
     "duration": 0.070792,
     "end_time": "2021-03-27T14:11:55.817705",
     "exception": false,
     "start_time": "2021-03-27T14:11:55.746913",
     "status": "completed"
    },
    "tags": []
   },
   "outputs": [],
   "source": [
    "df = df.drop(['Restaurant_id'], axis=1)"
   ]
  },
  {
   "cell_type": "markdown",
   "metadata": {
    "papermill": {
     "duration": 0.047364,
     "end_time": "2021-03-27T14:11:55.912878",
     "exception": false,
     "start_time": "2021-03-27T14:11:55.865514",
     "status": "completed"
    },
    "tags": []
   },
   "source": [
    "#### Переменная Ranking\n",
    "Без пропусков. Почти полностью скоррелирована с Restaurant_id.\\\n",
    "На мой взгялд Restaurant_id можно удалить"
   ]
  },
  {
   "cell_type": "markdown",
   "metadata": {
    "papermill": {
     "duration": 0.047428,
     "end_time": "2021-03-27T14:11:56.008238",
     "exception": false,
     "start_time": "2021-03-27T14:11:55.960810",
     "status": "completed"
    },
    "tags": []
   },
   "source": [
    "Попробуем также выяснить, как население городов влияет на место,\\\n",
    "которое занимает данный ресторан среди всех ресторанов своего города.\\\n",
    "Для этого необходимо ввести данные о количестве населения."
   ]
  },
  {
   "cell_type": "code",
   "execution_count": 20,
   "metadata": {
    "execution": {
     "iopub.execute_input": "2021-03-27T14:11:56.119459Z",
     "iopub.status.busy": "2021-03-27T14:11:56.115086Z",
     "iopub.status.idle": "2021-03-27T14:11:56.934631Z",
     "shell.execute_reply": "2021-03-27T14:11:56.934006Z"
    },
    "papermill": {
     "duration": 0.877342,
     "end_time": "2021-03-27T14:11:56.934767",
     "exception": false,
     "start_time": "2021-03-27T14:11:56.057425",
     "status": "completed"
    },
    "tags": []
   },
   "outputs": [],
   "source": [
    "Сity_population= {'London' : 8539, 'Paris' : 2197, 'Madrid' : 3222, 'Barcelona' : 1621, \n",
    "                        'Berlin' : 3723, 'Milan' : 1342, 'Rome' : 2869, 'Prague' : 1281, \n",
    "                        'Lisbon' : 506, 'Vienna' : 1889, 'Amsterdam' : 866, 'Brussels' : 179, \n",
    "                        'Hamburg' : 1718, 'Munich' : 1450, 'Lyon' : 516, 'Stockholm' : 961, \n",
    "                        'Budapest' : 1745, 'Warsaw' : 1790, 'Dublin' : 554, \n",
    "                        'Copenhagen' : 616, 'Athens' : 665, 'Edinburgh' : 513, \n",
    "                        'Zurich' : 402, 'Oporto' : 249, 'Geneva' : 184, 'Krakow' : 755, \n",
    "                        'Oslo' : 693, 'Helsinki' : 643, 'Bratislava' : 426, \n",
    "                        'Luxembourg' : 120, 'Ljubljana' : 284}\n",
    "df['Сity_population'] = df.apply(lambda row: Сity_population[row['City']], axis = 1)"
   ]
  },
  {
   "cell_type": "markdown",
   "metadata": {
    "papermill": {
     "duration": 0.048549,
     "end_time": "2021-03-27T14:11:57.032909",
     "exception": false,
     "start_time": "2021-03-27T14:11:56.984360",
     "status": "completed"
    },
    "tags": []
   },
   "source": [
    "Мы также отнормируем данный признак и внесем его в датасет"
   ]
  },
  {
   "cell_type": "code",
   "execution_count": 21,
   "metadata": {
    "execution": {
     "iopub.execute_input": "2021-03-27T14:11:57.143831Z",
     "iopub.status.busy": "2021-03-27T14:11:57.143130Z",
     "iopub.status.idle": "2021-03-27T14:11:57.184598Z",
     "shell.execute_reply": "2021-03-27T14:11:57.183306Z"
    },
    "papermill": {
     "duration": 0.101995,
     "end_time": "2021-03-27T14:11:57.184743",
     "exception": false,
     "start_time": "2021-03-27T14:11:57.082748",
     "status": "completed"
    },
    "tags": []
   },
   "outputs": [],
   "source": [
    "mean_Ranking_on_City = df.groupby(['City'])['Ranking'].mean()\n",
    "df['mean_Ranking_on_City'] = df.City.map(mean_Ranking_on_City)\n",
    "df['norm_Ranking_on_Popul_in_City'] = (df['Ranking'] - df['mean_Ranking_on_City']) / df['Сity_population']"
   ]
  },
  {
   "cell_type": "markdown",
   "metadata": {
    "papermill": {
     "duration": 0.097006,
     "end_time": "2021-03-27T14:11:57.330107",
     "exception": false,
     "start_time": "2021-03-27T14:11:57.233101",
     "status": "completed"
    },
    "tags": []
   },
   "source": [
    "### 5. Price_Range\n",
    "##### — диапазон цен в ресторане;"
   ]
  },
  {
   "cell_type": "code",
   "execution_count": 22,
   "metadata": {
    "execution": {
     "iopub.execute_input": "2021-03-27T14:11:57.437185Z",
     "iopub.status.busy": "2021-03-27T14:11:57.436446Z",
     "iopub.status.idle": "2021-03-27T14:11:57.445180Z",
     "shell.execute_reply": "2021-03-27T14:11:57.444420Z"
    },
    "papermill": {
     "duration": 0.066705,
     "end_time": "2021-03-27T14:11:57.445333",
     "exception": false,
     "start_time": "2021-03-27T14:11:57.378628",
     "status": "completed"
    },
    "tags": []
   },
   "outputs": [
    {
     "data": {
      "text/plain": [
       "0.0    32639\n",
       "1.0    17361\n",
       "Name: Price_Range, dtype: int64"
      ]
     },
     "metadata": {},
     "output_type": "display_data"
    }
   ],
   "source": [
    "display(pd.isna(df['Price_Range']).astype('float64').value_counts())"
   ]
  },
  {
   "cell_type": "code",
   "execution_count": 23,
   "metadata": {
    "execution": {
     "iopub.execute_input": "2021-03-27T14:11:57.561366Z",
     "iopub.status.busy": "2021-03-27T14:11:57.546015Z",
     "iopub.status.idle": "2021-03-27T14:11:57.565578Z",
     "shell.execute_reply": "2021-03-27T14:11:57.566214Z"
    },
    "papermill": {
     "duration": 0.071931,
     "end_time": "2021-03-27T14:11:57.566401",
     "exception": false,
     "start_time": "2021-03-27T14:11:57.494470",
     "status": "completed"
    },
    "tags": []
   },
   "outputs": [
    {
     "data": {
      "text/plain": [
       "$$ - $$$    23041\n",
       "$            7816\n",
       "$$$$         1782\n",
       "Name: Price_Range, dtype: int64"
      ]
     },
     "execution_count": 23,
     "metadata": {},
     "output_type": "execute_result"
    }
   ],
   "source": [
    "df['Price_Range'].value_counts()"
   ]
  },
  {
   "cell_type": "code",
   "execution_count": 24,
   "metadata": {
    "execution": {
     "iopub.execute_input": "2021-03-27T14:11:57.679060Z",
     "iopub.status.busy": "2021-03-27T14:11:57.678291Z",
     "iopub.status.idle": "2021-03-27T14:11:57.743538Z",
     "shell.execute_reply": "2021-03-27T14:11:57.742981Z"
    },
    "papermill": {
     "duration": 0.128226,
     "end_time": "2021-03-27T14:11:57.743661",
     "exception": false,
     "start_time": "2021-03-27T14:11:57.615435",
     "status": "completed"
    },
    "tags": []
   },
   "outputs": [
    {
     "data": {
      "text/plain": [
       "2    40402\n",
       "1     7816\n",
       "3     1782\n",
       "Name: Price_Range, dtype: int64"
      ]
     },
     "execution_count": 24,
     "metadata": {},
     "output_type": "execute_result"
    }
   ],
   "source": [
    "df.loc[df['Price_Range'] == '$$$$', ['Price_Range']] = 3\n",
    "df.loc[df['Price_Range'] == '$$ - $$$', ['Price_Range']] = 2\n",
    "df.loc[df['Price_Range'] == '$', ['Price_Range']] = 1\n",
    "df['Price_Range'] = df['Price_Range'].fillna(2)\n",
    "df['Price_Range'].value_counts()"
   ]
  },
  {
   "cell_type": "markdown",
   "metadata": {
    "papermill": {
     "duration": 0.050354,
     "end_time": "2021-03-27T14:11:57.844006",
     "exception": false,
     "start_time": "2021-03-27T14:11:57.793652",
     "status": "completed"
    },
    "tags": []
   },
   "source": [
    "#### Переменная Price_Range\n",
    "13886 - пропусков. Был изменен признак с символьного на числовой с сохранением сути значений\\\n",
    "(низкая цена - 1, средняя цена -2 , высокая цена - 3)\\\n",
    "18412 ресторанов имеют средний параметр цены, это 71% из имеющейся информации\\\n",
    "поэтому заполняем пропуски средним значением"
   ]
  },
  {
   "cell_type": "markdown",
   "metadata": {
    "papermill": {
     "duration": 0.050177,
     "end_time": "2021-03-27T14:11:57.944093",
     "exception": false,
     "start_time": "2021-03-27T14:11:57.893916",
     "status": "completed"
    },
    "tags": []
   },
   "source": [
    "### 5. Number of Reviews\n",
    "#### — количество отзывов о ресторане;"
   ]
  },
  {
   "cell_type": "code",
   "execution_count": 25,
   "metadata": {
    "execution": {
     "iopub.execute_input": "2021-03-27T14:11:58.051817Z",
     "iopub.status.busy": "2021-03-27T14:11:58.050879Z",
     "iopub.status.idle": "2021-03-27T14:11:58.059252Z",
     "shell.execute_reply": "2021-03-27T14:11:58.058518Z"
    },
    "papermill": {
     "duration": 0.06531,
     "end_time": "2021-03-27T14:11:58.059393",
     "exception": false,
     "start_time": "2021-03-27T14:11:57.994083",
     "status": "completed"
    },
    "tags": []
   },
   "outputs": [
    {
     "data": {
      "text/plain": [
       "0.0    46800\n",
       "1.0     3200\n",
       "Name: Number_of_Reviews, dtype: int64"
      ]
     },
     "metadata": {},
     "output_type": "display_data"
    }
   ],
   "source": [
    "display(pd.isna(df['Number_of_Reviews']).astype('float64').value_counts())"
   ]
  },
  {
   "cell_type": "code",
   "execution_count": 26,
   "metadata": {
    "execution": {
     "iopub.execute_input": "2021-03-27T14:11:58.172188Z",
     "iopub.status.busy": "2021-03-27T14:11:58.171274Z",
     "iopub.status.idle": "2021-03-27T14:11:58.188278Z",
     "shell.execute_reply": "2021-03-27T14:11:58.188840Z"
    },
    "papermill": {
     "duration": 0.07671,
     "end_time": "2021-03-27T14:11:58.189012",
     "exception": false,
     "start_time": "2021-03-27T14:11:58.112302",
     "status": "completed"
    },
    "tags": []
   },
   "outputs": [],
   "source": [
    "means1 = df.groupby('City')['Number_of_Reviews'].mean()\n",
    "df['Number_of_Reviews_means'] = round(df.City.map(means1),0)"
   ]
  },
  {
   "cell_type": "code",
   "execution_count": 27,
   "metadata": {
    "execution": {
     "iopub.execute_input": "2021-03-27T14:11:58.298498Z",
     "iopub.status.busy": "2021-03-27T14:11:58.297597Z",
     "iopub.status.idle": "2021-03-27T14:11:58.309045Z",
     "shell.execute_reply": "2021-03-27T14:11:58.309659Z"
    },
    "papermill": {
     "duration": 0.069274,
     "end_time": "2021-03-27T14:11:58.309838",
     "exception": false,
     "start_time": "2021-03-27T14:11:58.240564",
     "status": "completed"
    },
    "tags": []
   },
   "outputs": [
    {
     "data": {
      "text/plain": [
       "124.471197     3200\n",
       "2.000000       2403\n",
       "3.000000       2042\n",
       "4.000000       1707\n",
       "5.000000       1471\n",
       "               ... \n",
       "5216.000000       1\n",
       "1932.000000       1\n",
       "1050.000000       1\n",
       "1145.000000       1\n",
       "1471.000000       1\n",
       "Name: Number_of_Reviews, Length: 1574, dtype: int64"
      ]
     },
     "execution_count": 27,
     "metadata": {},
     "output_type": "execute_result"
    }
   ],
   "source": [
    "df['Number_of_Reviews'] = df['Number_of_Reviews'].fillna(df['Number_of_Reviews'].mean())\n",
    "df['Number_of_Reviews'].value_counts()"
   ]
  },
  {
   "cell_type": "markdown",
   "metadata": {
    "papermill": {
     "duration": 0.051112,
     "end_time": "2021-03-27T14:11:58.412598",
     "exception": false,
     "start_time": "2021-03-27T14:11:58.361486",
     "status": "completed"
    },
    "tags": []
   },
   "source": [
    "Переменная Number of Reviews\n",
    "3200 - пропусков. Оставляем их и заменям средним значением по признаку.\\\n",
    "Сгенерирован новый признак среднего количество отзывов о ресторане по городам - 'Number_of_Reviews_means'.\\\n",
    "Заполним пропуски средним по количеству отзывов"
   ]
  },
  {
   "cell_type": "markdown",
   "metadata": {
    "papermill": {
     "duration": 0.051436,
     "end_time": "2021-03-27T14:11:58.515650",
     "exception": false,
     "start_time": "2021-03-27T14:11:58.464214",
     "status": "completed"
    },
    "tags": []
   },
   "source": [
    "### 6. Reviews\n",
    "#### — данные о двух отзывах, которые отображаются на сайте ресторана;"
   ]
  },
  {
   "cell_type": "code",
   "execution_count": 28,
   "metadata": {
    "execution": {
     "iopub.execute_input": "2021-03-27T14:11:58.636337Z",
     "iopub.status.busy": "2021-03-27T14:11:58.628142Z",
     "iopub.status.idle": "2021-03-27T14:11:59.422410Z",
     "shell.execute_reply": "2021-03-27T14:11:59.420828Z"
    },
    "papermill": {
     "duration": 0.85529,
     "end_time": "2021-03-27T14:11:59.422542",
     "exception": false,
     "start_time": "2021-03-27T14:11:58.567252",
     "status": "completed"
    },
    "tags": []
   },
   "outputs": [],
   "source": [
    "df['Reviews'] = df['Reviews'].fillna('[[], []]')\n",
    "df['Reviews'] = df['Reviews'].str.replace(r'\\[\\[\\], \\[\\]\\]','None')\n",
    "s = df['Reviews'].str.split(r\"'\\], \\['\",expand=True)\n",
    "s.columns = ['comments','dates']\n",
    "s1 = s['comments'].str.split(r\"', '\",expand=True)\n",
    "s1.columns = ['comment1','comment2']\n",
    "s2 = s['dates'].str.split(r\"', '\",expand=True)\n",
    "s2.columns = ['date1','date2']\n",
    "s3 = pd.concat([s1,s2],axis=1)\n",
    "s3.date1 = s3.date1.str.replace(r'[\\[\\]\\']','')\n",
    "s3.date2 = s3.date2.str.replace(r'[\\[\\]\\']','')\n",
    "df_new = pd.concat([df,s3],axis=1)"
   ]
  },
  {
   "cell_type": "code",
   "execution_count": 29,
   "metadata": {
    "execution": {
     "iopub.execute_input": "2021-03-27T14:11:59.544341Z",
     "iopub.status.busy": "2021-03-27T14:11:59.543516Z",
     "iopub.status.idle": "2021-03-27T14:11:59.587696Z",
     "shell.execute_reply": "2021-03-27T14:11:59.586647Z"
    },
    "papermill": {
     "duration": 0.113403,
     "end_time": "2021-03-27T14:11:59.587834",
     "exception": false,
     "start_time": "2021-03-27T14:11:59.474431",
     "status": "completed"
    },
    "tags": []
   },
   "outputs": [
    {
     "data": {
      "text/html": [
       "<div>\n",
       "<style scoped>\n",
       "    .dataframe tbody tr th:only-of-type {\n",
       "        vertical-align: middle;\n",
       "    }\n",
       "\n",
       "    .dataframe tbody tr th {\n",
       "        vertical-align: top;\n",
       "    }\n",
       "\n",
       "    .dataframe thead th {\n",
       "        text-align: right;\n",
       "    }\n",
       "</style>\n",
       "<table border=\"1\" class=\"dataframe\">\n",
       "  <thead>\n",
       "    <tr style=\"text-align: right;\">\n",
       "      <th></th>\n",
       "      <th>len_comment</th>\n",
       "    </tr>\n",
       "  </thead>\n",
       "  <tbody>\n",
       "    <tr>\n",
       "      <th>0</th>\n",
       "      <td>0.0</td>\n",
       "    </tr>\n",
       "    <tr>\n",
       "      <th>1</th>\n",
       "      <td>2.0</td>\n",
       "    </tr>\n",
       "    <tr>\n",
       "      <th>2</th>\n",
       "      <td>2.0</td>\n",
       "    </tr>\n",
       "    <tr>\n",
       "      <th>3</th>\n",
       "      <td>2.0</td>\n",
       "    </tr>\n",
       "    <tr>\n",
       "      <th>4</th>\n",
       "      <td>2.0</td>\n",
       "    </tr>\n",
       "  </tbody>\n",
       "</table>\n",
       "</div>"
      ],
      "text/plain": [
       "   len_comment\n",
       "0          0.0\n",
       "1          2.0\n",
       "2          2.0\n",
       "3          2.0\n",
       "4          2.0"
      ]
     },
     "execution_count": 29,
     "metadata": {},
     "output_type": "execute_result"
    }
   ],
   "source": [
    "date1null = pd.isna(df_new['date1']).astype('float64')\n",
    "date2null = pd.isna(df_new['date2']).astype('float64')\n",
    "df_new['len_comment'] = (1 - date1null) + (1 -date2null)\n",
    "df_new[['len_comment']].head()"
   ]
  },
  {
   "cell_type": "code",
   "execution_count": 30,
   "metadata": {
    "execution": {
     "iopub.execute_input": "2021-03-27T14:11:59.714094Z",
     "iopub.status.busy": "2021-03-27T14:11:59.713066Z",
     "iopub.status.idle": "2021-03-27T14:11:59.768608Z",
     "shell.execute_reply": "2021-03-27T14:11:59.769128Z"
    },
    "papermill": {
     "duration": 0.129375,
     "end_time": "2021-03-27T14:11:59.769303",
     "exception": false,
     "start_time": "2021-03-27T14:11:59.639928",
     "status": "completed"
    },
    "tags": []
   },
   "outputs": [],
   "source": [
    "df_new['date1'] = pd.to_datetime(df_new['date1'])\n",
    "df_new['date2'] = pd.to_datetime(df_new['date2'])\n",
    "df_new['diff_date']=abs(df_new['date1']-df_new['date2'])\n",
    "df_new.diff_date = df_new.diff_date.dt.days\n",
    "df_new.diff_date = df_new.diff_date.fillna(0)"
   ]
  },
  {
   "cell_type": "code",
   "execution_count": 31,
   "metadata": {
    "execution": {
     "iopub.execute_input": "2021-03-27T14:11:59.879652Z",
     "iopub.status.busy": "2021-03-27T14:11:59.878624Z",
     "iopub.status.idle": "2021-03-27T14:11:59.896136Z",
     "shell.execute_reply": "2021-03-27T14:11:59.896640Z"
    },
    "papermill": {
     "duration": 0.07359,
     "end_time": "2021-03-27T14:11:59.896806",
     "exception": false,
     "start_time": "2021-03-27T14:11:59.823216",
     "status": "completed"
    },
    "tags": []
   },
   "outputs": [],
   "source": [
    "dayspass = df_new['date1'].max()-df_new['date1']\n",
    "dayspass2 = df_new['date1'].max()-df_new['date2']\n",
    "df_new['dayspass'] = np.where(dayspass >= dayspass2, dayspass, dayspass2)\n",
    "df_new['dayspass'] = df_new['dayspass'].fillna(pd.to_timedelta(0))\n",
    "df_new['dayspass'] = df_new['dayspass'].dt.days"
   ]
  },
  {
   "cell_type": "code",
   "execution_count": 32,
   "metadata": {
    "execution": {
     "iopub.execute_input": "2021-03-27T14:12:00.009649Z",
     "iopub.status.busy": "2021-03-27T14:12:00.008571Z",
     "iopub.status.idle": "2021-03-27T14:12:00.036672Z",
     "shell.execute_reply": "2021-03-27T14:12:00.037183Z"
    },
    "papermill": {
     "duration": 0.088085,
     "end_time": "2021-03-27T14:12:00.037345",
     "exception": false,
     "start_time": "2021-03-27T14:11:59.949260",
     "status": "completed"
    },
    "tags": []
   },
   "outputs": [],
   "source": [
    "df_new.drop(['Reviews','comment1','comment2','date1','date2'], axis='columns', inplace=True)"
   ]
  },
  {
   "cell_type": "markdown",
   "metadata": {
    "papermill": {
     "duration": 0.05515,
     "end_time": "2021-03-27T14:12:00.144375",
     "exception": false,
     "start_time": "2021-03-27T14:12:00.089225",
     "status": "completed"
    },
    "tags": []
   },
   "source": [
    "#### Переменная Reviews\n",
    "Пропусков данных нет, каждая ячейка заполнена, но есть 6471 значений '[[], []]'\\\n",
    "И по сути можно расценить их как пропуски.\n",
    "Были созданы признаки:\\\n",
    "len_comment - кол-во коментариев в отзыве;\\\n",
    "dayspass - насколько давно был сделан последний самый свежий отзыв в днях(на момент получения базы);\\\n",
    "diff_date - перерыв между отзывами в днях;\\\n",
    "Пропуски в данных признаках пока что заменим на 0, так как не удаляем значения из датасета.\n",
    "Также был убран из основного датасета сам признак Reviews, послуживший донором информации для созданных признаков,\\\n",
    "и были удалены признаки, несущие информацию, полученые из данного признака, поскольку в них больше нет необходимости"
   ]
  },
  {
   "cell_type": "code",
   "execution_count": 33,
   "metadata": {
    "execution": {
     "iopub.execute_input": "2021-03-27T14:12:00.253290Z",
     "iopub.status.busy": "2021-03-27T14:12:00.252214Z",
     "iopub.status.idle": "2021-03-27T14:12:00.297262Z",
     "shell.execute_reply": "2021-03-27T14:12:00.297783Z"
    },
    "papermill": {
     "duration": 0.101283,
     "end_time": "2021-03-27T14:12:00.297934",
     "exception": false,
     "start_time": "2021-03-27T14:12:00.196651",
     "status": "completed"
    },
    "tags": []
   },
   "outputs": [
    {
     "name": "stdout",
     "output_type": "stream",
     "text": [
      "<class 'pandas.core.frame.DataFrame'>\n",
      "RangeIndex: 50000 entries, 0 to 49999\n",
      "Data columns (total 49 columns):\n",
      " #   Column                         Non-Null Count  Dtype  \n",
      "---  ------                         --------------  -----  \n",
      " 0   City                           50000 non-null  object \n",
      " 1   Cuisine_Style                  50000 non-null  object \n",
      " 2   Ranking                        50000 non-null  float64\n",
      " 3   Price_Range                    50000 non-null  int64  \n",
      " 4   Number_of_Reviews              50000 non-null  float64\n",
      " 5   URL_TA                         50000 non-null  object \n",
      " 6   ID_TA                          50000 non-null  object \n",
      " 7   Sample                         50000 non-null  int64  \n",
      " 8   Rating                         50000 non-null  float64\n",
      " 9   Capital_restaurant             50000 non-null  int64  \n",
      " 10  Amsterdam                      50000 non-null  float64\n",
      " 11  Athens                         50000 non-null  float64\n",
      " 12  Barcelona                      50000 non-null  float64\n",
      " 13  Berlin                         50000 non-null  float64\n",
      " 14  Bratislava                     50000 non-null  float64\n",
      " 15  Brussels                       50000 non-null  float64\n",
      " 16  Budapest                       50000 non-null  float64\n",
      " 17  Copenhagen                     50000 non-null  float64\n",
      " 18  Dublin                         50000 non-null  float64\n",
      " 19  Edinburgh                      50000 non-null  float64\n",
      " 20  Geneva                         50000 non-null  float64\n",
      " 21  Hamburg                        50000 non-null  float64\n",
      " 22  Helsinki                       50000 non-null  float64\n",
      " 23  Krakow                         50000 non-null  float64\n",
      " 24  Lisbon                         50000 non-null  float64\n",
      " 25  Ljubljana                      50000 non-null  float64\n",
      " 26  London                         50000 non-null  float64\n",
      " 27  Luxembourg                     50000 non-null  float64\n",
      " 28  Lyon                           50000 non-null  float64\n",
      " 29  Madrid                         50000 non-null  float64\n",
      " 30  Milan                          50000 non-null  float64\n",
      " 31  Munich                         50000 non-null  float64\n",
      " 32  Oporto                         50000 non-null  float64\n",
      " 33  Oslo                           50000 non-null  float64\n",
      " 34  Paris                          50000 non-null  float64\n",
      " 35  Prague                         50000 non-null  float64\n",
      " 36  Rome                           50000 non-null  float64\n",
      " 37  Stockholm                      50000 non-null  float64\n",
      " 38  Vienna                         50000 non-null  float64\n",
      " 39  Warsaw                         50000 non-null  float64\n",
      " 40  Zurich                         50000 non-null  float64\n",
      " 41  Сount_Сuisine                  50000 non-null  int64  \n",
      " 42  Сity_population                50000 non-null  int64  \n",
      " 43  mean_Ranking_on_City           50000 non-null  float64\n",
      " 44  norm_Ranking_on_Popul_in_City  50000 non-null  float64\n",
      " 45  Number_of_Reviews_means        50000 non-null  float64\n",
      " 46  len_comment                    50000 non-null  float64\n",
      " 47  diff_date                      50000 non-null  float64\n",
      " 48  dayspass                       50000 non-null  int64  \n",
      "dtypes: float64(39), int64(6), object(4)\n",
      "memory usage: 18.7+ MB\n"
     ]
    }
   ],
   "source": [
    "df_new.info()"
   ]
  },
  {
   "cell_type": "code",
   "execution_count": 34,
   "metadata": {
    "execution": {
     "iopub.execute_input": "2021-03-27T14:12:00.407668Z",
     "iopub.status.busy": "2021-03-27T14:12:00.406635Z",
     "iopub.status.idle": "2021-03-27T14:12:00.465628Z",
     "shell.execute_reply": "2021-03-27T14:12:00.466179Z"
    },
    "papermill": {
     "duration": 0.115562,
     "end_time": "2021-03-27T14:12:00.466359",
     "exception": false,
     "start_time": "2021-03-27T14:12:00.350797",
     "status": "completed"
    },
    "tags": []
   },
   "outputs": [
    {
     "data": {
      "text/html": [
       "<div>\n",
       "<style scoped>\n",
       "    .dataframe tbody tr th:only-of-type {\n",
       "        vertical-align: middle;\n",
       "    }\n",
       "\n",
       "    .dataframe tbody tr th {\n",
       "        vertical-align: top;\n",
       "    }\n",
       "\n",
       "    .dataframe thead th {\n",
       "        text-align: right;\n",
       "    }\n",
       "</style>\n",
       "<table border=\"1\" class=\"dataframe\">\n",
       "  <thead>\n",
       "    <tr style=\"text-align: right;\">\n",
       "      <th></th>\n",
       "      <th>Ranking</th>\n",
       "      <th>Price_Range</th>\n",
       "      <th>Number_of_Reviews</th>\n",
       "      <th>Sample</th>\n",
       "      <th>Rating</th>\n",
       "      <th>Capital_restaurant</th>\n",
       "      <th>Amsterdam</th>\n",
       "      <th>Athens</th>\n",
       "      <th>Barcelona</th>\n",
       "      <th>Berlin</th>\n",
       "      <th>Bratislava</th>\n",
       "      <th>Brussels</th>\n",
       "      <th>Budapest</th>\n",
       "      <th>Copenhagen</th>\n",
       "      <th>Dublin</th>\n",
       "      <th>Edinburgh</th>\n",
       "      <th>Geneva</th>\n",
       "      <th>Hamburg</th>\n",
       "      <th>Helsinki</th>\n",
       "      <th>Krakow</th>\n",
       "      <th>Lisbon</th>\n",
       "      <th>Ljubljana</th>\n",
       "      <th>London</th>\n",
       "      <th>Luxembourg</th>\n",
       "      <th>Lyon</th>\n",
       "      <th>Madrid</th>\n",
       "      <th>Milan</th>\n",
       "      <th>Munich</th>\n",
       "      <th>Oporto</th>\n",
       "      <th>Oslo</th>\n",
       "      <th>Paris</th>\n",
       "      <th>Prague</th>\n",
       "      <th>Rome</th>\n",
       "      <th>Stockholm</th>\n",
       "      <th>Vienna</th>\n",
       "      <th>Warsaw</th>\n",
       "      <th>Zurich</th>\n",
       "      <th>Сount_Сuisine</th>\n",
       "      <th>Сity_population</th>\n",
       "      <th>mean_Ranking_on_City</th>\n",
       "      <th>norm_Ranking_on_Popul_in_City</th>\n",
       "      <th>Number_of_Reviews_means</th>\n",
       "      <th>len_comment</th>\n",
       "      <th>diff_date</th>\n",
       "      <th>dayspass</th>\n",
       "    </tr>\n",
       "  </thead>\n",
       "  <tbody>\n",
       "    <tr>\n",
       "      <th>0</th>\n",
       "      <td>12963.0</td>\n",
       "      <td>2</td>\n",
       "      <td>4.0</td>\n",
       "      <td>0</td>\n",
       "      <td>0.0</td>\n",
       "      <td>1</td>\n",
       "      <td>0.0</td>\n",
       "      <td>0.0</td>\n",
       "      <td>0.0</td>\n",
       "      <td>0.0</td>\n",
       "      <td>0.0</td>\n",
       "      <td>0.0</td>\n",
       "      <td>0.0</td>\n",
       "      <td>0.0</td>\n",
       "      <td>0.0</td>\n",
       "      <td>0.0</td>\n",
       "      <td>0.0</td>\n",
       "      <td>0.0</td>\n",
       "      <td>0.0</td>\n",
       "      <td>0.0</td>\n",
       "      <td>0.0</td>\n",
       "      <td>0.0</td>\n",
       "      <td>0.0</td>\n",
       "      <td>0.0</td>\n",
       "      <td>0.0</td>\n",
       "      <td>0.0</td>\n",
       "      <td>0.0</td>\n",
       "      <td>0.0</td>\n",
       "      <td>0.0</td>\n",
       "      <td>0.0</td>\n",
       "      <td>1.0</td>\n",
       "      <td>0.0</td>\n",
       "      <td>0.0</td>\n",
       "      <td>0.0</td>\n",
       "      <td>0.0</td>\n",
       "      <td>0.0</td>\n",
       "      <td>0.0</td>\n",
       "      <td>2</td>\n",
       "      <td>2197</td>\n",
       "      <td>6938.557138</td>\n",
       "      <td>2.742122</td>\n",
       "      <td>117.0</td>\n",
       "      <td>0.0</td>\n",
       "      <td>0.0</td>\n",
       "      <td>0</td>\n",
       "    </tr>\n",
       "    <tr>\n",
       "      <th>1</th>\n",
       "      <td>106.0</td>\n",
       "      <td>2</td>\n",
       "      <td>97.0</td>\n",
       "      <td>0</td>\n",
       "      <td>0.0</td>\n",
       "      <td>1</td>\n",
       "      <td>0.0</td>\n",
       "      <td>0.0</td>\n",
       "      <td>0.0</td>\n",
       "      <td>0.0</td>\n",
       "      <td>0.0</td>\n",
       "      <td>0.0</td>\n",
       "      <td>0.0</td>\n",
       "      <td>0.0</td>\n",
       "      <td>0.0</td>\n",
       "      <td>0.0</td>\n",
       "      <td>0.0</td>\n",
       "      <td>0.0</td>\n",
       "      <td>1.0</td>\n",
       "      <td>0.0</td>\n",
       "      <td>0.0</td>\n",
       "      <td>0.0</td>\n",
       "      <td>0.0</td>\n",
       "      <td>0.0</td>\n",
       "      <td>0.0</td>\n",
       "      <td>0.0</td>\n",
       "      <td>0.0</td>\n",
       "      <td>0.0</td>\n",
       "      <td>0.0</td>\n",
       "      <td>0.0</td>\n",
       "      <td>0.0</td>\n",
       "      <td>0.0</td>\n",
       "      <td>0.0</td>\n",
       "      <td>0.0</td>\n",
       "      <td>0.0</td>\n",
       "      <td>0.0</td>\n",
       "      <td>0.0</td>\n",
       "      <td>5</td>\n",
       "      <td>643</td>\n",
       "      <td>564.231579</td>\n",
       "      <td>-0.712646</td>\n",
       "      <td>66.0</td>\n",
       "      <td>2.0</td>\n",
       "      <td>37.0</td>\n",
       "      <td>120</td>\n",
       "    </tr>\n",
       "    <tr>\n",
       "      <th>2</th>\n",
       "      <td>810.0</td>\n",
       "      <td>2</td>\n",
       "      <td>28.0</td>\n",
       "      <td>0</td>\n",
       "      <td>0.0</td>\n",
       "      <td>1</td>\n",
       "      <td>0.0</td>\n",
       "      <td>0.0</td>\n",
       "      <td>0.0</td>\n",
       "      <td>0.0</td>\n",
       "      <td>0.0</td>\n",
       "      <td>0.0</td>\n",
       "      <td>0.0</td>\n",
       "      <td>0.0</td>\n",
       "      <td>0.0</td>\n",
       "      <td>1.0</td>\n",
       "      <td>0.0</td>\n",
       "      <td>0.0</td>\n",
       "      <td>0.0</td>\n",
       "      <td>0.0</td>\n",
       "      <td>0.0</td>\n",
       "      <td>0.0</td>\n",
       "      <td>0.0</td>\n",
       "      <td>0.0</td>\n",
       "      <td>0.0</td>\n",
       "      <td>0.0</td>\n",
       "      <td>0.0</td>\n",
       "      <td>0.0</td>\n",
       "      <td>0.0</td>\n",
       "      <td>0.0</td>\n",
       "      <td>0.0</td>\n",
       "      <td>0.0</td>\n",
       "      <td>0.0</td>\n",
       "      <td>0.0</td>\n",
       "      <td>0.0</td>\n",
       "      <td>0.0</td>\n",
       "      <td>0.0</td>\n",
       "      <td>1</td>\n",
       "      <td>513</td>\n",
       "      <td>885.130201</td>\n",
       "      <td>-0.146453</td>\n",
       "      <td>238.0</td>\n",
       "      <td>2.0</td>\n",
       "      <td>22.0</td>\n",
       "      <td>82</td>\n",
       "    </tr>\n",
       "    <tr>\n",
       "      <th>3</th>\n",
       "      <td>1669.0</td>\n",
       "      <td>3</td>\n",
       "      <td>202.0</td>\n",
       "      <td>0</td>\n",
       "      <td>0.0</td>\n",
       "      <td>1</td>\n",
       "      <td>0.0</td>\n",
       "      <td>0.0</td>\n",
       "      <td>0.0</td>\n",
       "      <td>0.0</td>\n",
       "      <td>0.0</td>\n",
       "      <td>0.0</td>\n",
       "      <td>0.0</td>\n",
       "      <td>0.0</td>\n",
       "      <td>0.0</td>\n",
       "      <td>0.0</td>\n",
       "      <td>0.0</td>\n",
       "      <td>0.0</td>\n",
       "      <td>0.0</td>\n",
       "      <td>0.0</td>\n",
       "      <td>0.0</td>\n",
       "      <td>0.0</td>\n",
       "      <td>1.0</td>\n",
       "      <td>0.0</td>\n",
       "      <td>0.0</td>\n",
       "      <td>0.0</td>\n",
       "      <td>0.0</td>\n",
       "      <td>0.0</td>\n",
       "      <td>0.0</td>\n",
       "      <td>0.0</td>\n",
       "      <td>0.0</td>\n",
       "      <td>0.0</td>\n",
       "      <td>0.0</td>\n",
       "      <td>0.0</td>\n",
       "      <td>0.0</td>\n",
       "      <td>0.0</td>\n",
       "      <td>0.0</td>\n",
       "      <td>5</td>\n",
       "      <td>8539</td>\n",
       "      <td>8169.707354</td>\n",
       "      <td>-0.761296</td>\n",
       "      <td>138.0</td>\n",
       "      <td>2.0</td>\n",
       "      <td>14.0</td>\n",
       "      <td>96</td>\n",
       "    </tr>\n",
       "    <tr>\n",
       "      <th>4</th>\n",
       "      <td>37.0</td>\n",
       "      <td>3</td>\n",
       "      <td>162.0</td>\n",
       "      <td>0</td>\n",
       "      <td>0.0</td>\n",
       "      <td>1</td>\n",
       "      <td>0.0</td>\n",
       "      <td>0.0</td>\n",
       "      <td>0.0</td>\n",
       "      <td>0.0</td>\n",
       "      <td>1.0</td>\n",
       "      <td>0.0</td>\n",
       "      <td>0.0</td>\n",
       "      <td>0.0</td>\n",
       "      <td>0.0</td>\n",
       "      <td>0.0</td>\n",
       "      <td>0.0</td>\n",
       "      <td>0.0</td>\n",
       "      <td>0.0</td>\n",
       "      <td>0.0</td>\n",
       "      <td>0.0</td>\n",
       "      <td>0.0</td>\n",
       "      <td>0.0</td>\n",
       "      <td>0.0</td>\n",
       "      <td>0.0</td>\n",
       "      <td>0.0</td>\n",
       "      <td>0.0</td>\n",
       "      <td>0.0</td>\n",
       "      <td>0.0</td>\n",
       "      <td>0.0</td>\n",
       "      <td>0.0</td>\n",
       "      <td>0.0</td>\n",
       "      <td>0.0</td>\n",
       "      <td>0.0</td>\n",
       "      <td>0.0</td>\n",
       "      <td>0.0</td>\n",
       "      <td>0.0</td>\n",
       "      <td>6</td>\n",
       "      <td>426</td>\n",
       "      <td>462.428947</td>\n",
       "      <td>-0.998660</td>\n",
       "      <td>52.0</td>\n",
       "      <td>2.0</td>\n",
       "      <td>15.0</td>\n",
       "      <td>33</td>\n",
       "    </tr>\n",
       "  </tbody>\n",
       "</table>\n",
       "</div>"
      ],
      "text/plain": [
       "   Ranking  Price_Range  Number_of_Reviews  Sample  Rating  \\\n",
       "0  12963.0            2                4.0       0     0.0   \n",
       "1    106.0            2               97.0       0     0.0   \n",
       "2    810.0            2               28.0       0     0.0   \n",
       "3   1669.0            3              202.0       0     0.0   \n",
       "4     37.0            3              162.0       0     0.0   \n",
       "\n",
       "   Capital_restaurant  Amsterdam  Athens  Barcelona  Berlin  Bratislava  \\\n",
       "0                   1        0.0     0.0        0.0     0.0         0.0   \n",
       "1                   1        0.0     0.0        0.0     0.0         0.0   \n",
       "2                   1        0.0     0.0        0.0     0.0         0.0   \n",
       "3                   1        0.0     0.0        0.0     0.0         0.0   \n",
       "4                   1        0.0     0.0        0.0     0.0         1.0   \n",
       "\n",
       "   Brussels  Budapest  Copenhagen  Dublin  Edinburgh  Geneva  Hamburg  \\\n",
       "0       0.0       0.0         0.0     0.0        0.0     0.0      0.0   \n",
       "1       0.0       0.0         0.0     0.0        0.0     0.0      0.0   \n",
       "2       0.0       0.0         0.0     0.0        1.0     0.0      0.0   \n",
       "3       0.0       0.0         0.0     0.0        0.0     0.0      0.0   \n",
       "4       0.0       0.0         0.0     0.0        0.0     0.0      0.0   \n",
       "\n",
       "   Helsinki  Krakow  Lisbon  Ljubljana  London  Luxembourg  Lyon  Madrid  \\\n",
       "0       0.0     0.0     0.0        0.0     0.0         0.0   0.0     0.0   \n",
       "1       1.0     0.0     0.0        0.0     0.0         0.0   0.0     0.0   \n",
       "2       0.0     0.0     0.0        0.0     0.0         0.0   0.0     0.0   \n",
       "3       0.0     0.0     0.0        0.0     1.0         0.0   0.0     0.0   \n",
       "4       0.0     0.0     0.0        0.0     0.0         0.0   0.0     0.0   \n",
       "\n",
       "   Milan  Munich  Oporto  Oslo  Paris  Prague  Rome  Stockholm  Vienna  \\\n",
       "0    0.0     0.0     0.0   0.0    1.0     0.0   0.0        0.0     0.0   \n",
       "1    0.0     0.0     0.0   0.0    0.0     0.0   0.0        0.0     0.0   \n",
       "2    0.0     0.0     0.0   0.0    0.0     0.0   0.0        0.0     0.0   \n",
       "3    0.0     0.0     0.0   0.0    0.0     0.0   0.0        0.0     0.0   \n",
       "4    0.0     0.0     0.0   0.0    0.0     0.0   0.0        0.0     0.0   \n",
       "\n",
       "   Warsaw  Zurich  Сount_Сuisine  Сity_population  mean_Ranking_on_City  \\\n",
       "0     0.0     0.0              2             2197           6938.557138   \n",
       "1     0.0     0.0              5              643            564.231579   \n",
       "2     0.0     0.0              1              513            885.130201   \n",
       "3     0.0     0.0              5             8539           8169.707354   \n",
       "4     0.0     0.0              6              426            462.428947   \n",
       "\n",
       "   norm_Ranking_on_Popul_in_City  Number_of_Reviews_means  len_comment  \\\n",
       "0                       2.742122                    117.0          0.0   \n",
       "1                      -0.712646                     66.0          2.0   \n",
       "2                      -0.146453                    238.0          2.0   \n",
       "3                      -0.761296                    138.0          2.0   \n",
       "4                      -0.998660                     52.0          2.0   \n",
       "\n",
       "   diff_date  dayspass  \n",
       "0        0.0         0  \n",
       "1       37.0       120  \n",
       "2       22.0        82  \n",
       "3       14.0        96  \n",
       "4       15.0        33  "
      ]
     },
     "execution_count": 34,
     "metadata": {},
     "output_type": "execute_result"
    }
   ],
   "source": [
    "df_new.drop(df_new.select_dtypes(['object']), inplace=True, axis=1)\n",
    "df_new.head()"
   ]
  },
  {
   "cell_type": "code",
   "execution_count": 35,
   "metadata": {
    "execution": {
     "iopub.execute_input": "2021-03-27T14:12:00.581176Z",
     "iopub.status.busy": "2021-03-27T14:12:00.580510Z",
     "iopub.status.idle": "2021-03-27T14:12:00.584211Z",
     "shell.execute_reply": "2021-03-27T14:12:00.584809Z"
    },
    "papermill": {
     "duration": 0.064309,
     "end_time": "2021-03-27T14:12:00.584965",
     "exception": false,
     "start_time": "2021-03-27T14:12:00.520656",
     "status": "completed"
    },
    "tags": []
   },
   "outputs": [
    {
     "data": {
      "text/plain": [
       "Index(['Ranking', 'Price_Range', 'Number_of_Reviews', 'Sample', 'Rating',\n",
       "       'Capital_restaurant', 'Amsterdam', 'Athens', 'Barcelona', 'Berlin',\n",
       "       'Bratislava', 'Brussels', 'Budapest', 'Copenhagen', 'Dublin',\n",
       "       'Edinburgh', 'Geneva', 'Hamburg', 'Helsinki', 'Krakow', 'Lisbon',\n",
       "       'Ljubljana', 'London', 'Luxembourg', 'Lyon', 'Madrid', 'Milan',\n",
       "       'Munich', 'Oporto', 'Oslo', 'Paris', 'Prague', 'Rome', 'Stockholm',\n",
       "       'Vienna', 'Warsaw', 'Zurich', 'Сount_Сuisine', 'Сity_population',\n",
       "       'mean_Ranking_on_City', 'norm_Ranking_on_Popul_in_City',\n",
       "       'Number_of_Reviews_means', 'len_comment', 'diff_date', 'dayspass'],\n",
       "      dtype='object')"
      ]
     },
     "execution_count": 35,
     "metadata": {},
     "output_type": "execute_result"
    }
   ],
   "source": [
    "df_new.columns"
   ]
  },
  {
   "cell_type": "code",
   "execution_count": 36,
   "metadata": {
    "execution": {
     "iopub.execute_input": "2021-03-27T14:12:00.696997Z",
     "iopub.status.busy": "2021-03-27T14:12:00.696335Z",
     "iopub.status.idle": "2021-03-27T14:12:00.730779Z",
     "shell.execute_reply": "2021-03-27T14:12:00.730204Z"
    },
    "papermill": {
     "duration": 0.091695,
     "end_time": "2021-03-27T14:12:00.730914",
     "exception": false,
     "start_time": "2021-03-27T14:12:00.639219",
     "status": "completed"
    },
    "tags": []
   },
   "outputs": [
    {
     "data": {
      "text/html": [
       "<div>\n",
       "<style scoped>\n",
       "    .dataframe tbody tr th:only-of-type {\n",
       "        vertical-align: middle;\n",
       "    }\n",
       "\n",
       "    .dataframe tbody tr th {\n",
       "        vertical-align: top;\n",
       "    }\n",
       "\n",
       "    .dataframe thead th {\n",
       "        text-align: right;\n",
       "    }\n",
       "</style>\n",
       "<table border=\"1\" class=\"dataframe\">\n",
       "  <thead>\n",
       "    <tr style=\"text-align: right;\">\n",
       "      <th></th>\n",
       "      <th>Ranking</th>\n",
       "      <th>Price_Range</th>\n",
       "      <th>Number_of_Reviews</th>\n",
       "      <th>Sample</th>\n",
       "      <th>Rating</th>\n",
       "      <th>Capital_restaurant</th>\n",
       "      <th>Сount_Сuisine</th>\n",
       "      <th>Сity_population</th>\n",
       "      <th>mean_Ranking_on_City</th>\n",
       "      <th>norm_Ranking_on_Popul_in_City</th>\n",
       "      <th>Number_of_Reviews_means</th>\n",
       "      <th>len_comment</th>\n",
       "      <th>diff_date</th>\n",
       "      <th>dayspass</th>\n",
       "    </tr>\n",
       "  </thead>\n",
       "  <tbody>\n",
       "    <tr>\n",
       "      <th>0</th>\n",
       "      <td>12963.0</td>\n",
       "      <td>2</td>\n",
       "      <td>4.0</td>\n",
       "      <td>0</td>\n",
       "      <td>0.0</td>\n",
       "      <td>1</td>\n",
       "      <td>2</td>\n",
       "      <td>2197</td>\n",
       "      <td>6938.557138</td>\n",
       "      <td>2.742122</td>\n",
       "      <td>117.0</td>\n",
       "      <td>0.0</td>\n",
       "      <td>0.0</td>\n",
       "      <td>0</td>\n",
       "    </tr>\n",
       "    <tr>\n",
       "      <th>1</th>\n",
       "      <td>106.0</td>\n",
       "      <td>2</td>\n",
       "      <td>97.0</td>\n",
       "      <td>0</td>\n",
       "      <td>0.0</td>\n",
       "      <td>1</td>\n",
       "      <td>5</td>\n",
       "      <td>643</td>\n",
       "      <td>564.231579</td>\n",
       "      <td>-0.712646</td>\n",
       "      <td>66.0</td>\n",
       "      <td>2.0</td>\n",
       "      <td>37.0</td>\n",
       "      <td>120</td>\n",
       "    </tr>\n",
       "    <tr>\n",
       "      <th>2</th>\n",
       "      <td>810.0</td>\n",
       "      <td>2</td>\n",
       "      <td>28.0</td>\n",
       "      <td>0</td>\n",
       "      <td>0.0</td>\n",
       "      <td>1</td>\n",
       "      <td>1</td>\n",
       "      <td>513</td>\n",
       "      <td>885.130201</td>\n",
       "      <td>-0.146453</td>\n",
       "      <td>238.0</td>\n",
       "      <td>2.0</td>\n",
       "      <td>22.0</td>\n",
       "      <td>82</td>\n",
       "    </tr>\n",
       "    <tr>\n",
       "      <th>3</th>\n",
       "      <td>1669.0</td>\n",
       "      <td>3</td>\n",
       "      <td>202.0</td>\n",
       "      <td>0</td>\n",
       "      <td>0.0</td>\n",
       "      <td>1</td>\n",
       "      <td>5</td>\n",
       "      <td>8539</td>\n",
       "      <td>8169.707354</td>\n",
       "      <td>-0.761296</td>\n",
       "      <td>138.0</td>\n",
       "      <td>2.0</td>\n",
       "      <td>14.0</td>\n",
       "      <td>96</td>\n",
       "    </tr>\n",
       "    <tr>\n",
       "      <th>4</th>\n",
       "      <td>37.0</td>\n",
       "      <td>3</td>\n",
       "      <td>162.0</td>\n",
       "      <td>0</td>\n",
       "      <td>0.0</td>\n",
       "      <td>1</td>\n",
       "      <td>6</td>\n",
       "      <td>426</td>\n",
       "      <td>462.428947</td>\n",
       "      <td>-0.998660</td>\n",
       "      <td>52.0</td>\n",
       "      <td>2.0</td>\n",
       "      <td>15.0</td>\n",
       "      <td>33</td>\n",
       "    </tr>\n",
       "    <tr>\n",
       "      <th>...</th>\n",
       "      <td>...</td>\n",
       "      <td>...</td>\n",
       "      <td>...</td>\n",
       "      <td>...</td>\n",
       "      <td>...</td>\n",
       "      <td>...</td>\n",
       "      <td>...</td>\n",
       "      <td>...</td>\n",
       "      <td>...</td>\n",
       "      <td>...</td>\n",
       "      <td>...</td>\n",
       "      <td>...</td>\n",
       "      <td>...</td>\n",
       "      <td>...</td>\n",
       "    </tr>\n",
       "    <tr>\n",
       "      <th>49995</th>\n",
       "      <td>500.0</td>\n",
       "      <td>2</td>\n",
       "      <td>79.0</td>\n",
       "      <td>1</td>\n",
       "      <td>4.5</td>\n",
       "      <td>0</td>\n",
       "      <td>4</td>\n",
       "      <td>1342</td>\n",
       "      <td>3106.027840</td>\n",
       "      <td>-1.941899</td>\n",
       "      <td>168.0</td>\n",
       "      <td>2.0</td>\n",
       "      <td>34.0</td>\n",
       "      <td>106</td>\n",
       "    </tr>\n",
       "    <tr>\n",
       "      <th>49996</th>\n",
       "      <td>6341.0</td>\n",
       "      <td>2</td>\n",
       "      <td>542.0</td>\n",
       "      <td>1</td>\n",
       "      <td>3.5</td>\n",
       "      <td>1</td>\n",
       "      <td>5</td>\n",
       "      <td>2197</td>\n",
       "      <td>6938.557138</td>\n",
       "      <td>-0.271988</td>\n",
       "      <td>117.0</td>\n",
       "      <td>2.0</td>\n",
       "      <td>9.0</td>\n",
       "      <td>76</td>\n",
       "    </tr>\n",
       "    <tr>\n",
       "      <th>49997</th>\n",
       "      <td>1652.0</td>\n",
       "      <td>2</td>\n",
       "      <td>4.0</td>\n",
       "      <td>1</td>\n",
       "      <td>4.5</td>\n",
       "      <td>1</td>\n",
       "      <td>2</td>\n",
       "      <td>961</td>\n",
       "      <td>1237.482091</td>\n",
       "      <td>0.431340</td>\n",
       "      <td>75.0</td>\n",
       "      <td>2.0</td>\n",
       "      <td>3127.0</td>\n",
       "      <td>3607</td>\n",
       "    </tr>\n",
       "    <tr>\n",
       "      <th>49998</th>\n",
       "      <td>641.0</td>\n",
       "      <td>2</td>\n",
       "      <td>70.0</td>\n",
       "      <td>1</td>\n",
       "      <td>4.0</td>\n",
       "      <td>1</td>\n",
       "      <td>5</td>\n",
       "      <td>1790</td>\n",
       "      <td>1055.193514</td>\n",
       "      <td>-0.231393</td>\n",
       "      <td>67.0</td>\n",
       "      <td>2.0</td>\n",
       "      <td>23.0</td>\n",
       "      <td>253</td>\n",
       "    </tr>\n",
       "    <tr>\n",
       "      <th>49999</th>\n",
       "      <td>4827.0</td>\n",
       "      <td>2</td>\n",
       "      <td>260.0</td>\n",
       "      <td>1</td>\n",
       "      <td>3.0</td>\n",
       "      <td>0</td>\n",
       "      <td>1</td>\n",
       "      <td>1342</td>\n",
       "      <td>3106.027840</td>\n",
       "      <td>1.282394</td>\n",
       "      <td>168.0</td>\n",
       "      <td>2.0</td>\n",
       "      <td>1306.0</td>\n",
       "      <td>2063</td>\n",
       "    </tr>\n",
       "  </tbody>\n",
       "</table>\n",
       "<p>50000 rows × 14 columns</p>\n",
       "</div>"
      ],
      "text/plain": [
       "       Ranking  Price_Range  Number_of_Reviews  Sample  Rating  \\\n",
       "0      12963.0            2                4.0       0     0.0   \n",
       "1        106.0            2               97.0       0     0.0   \n",
       "2        810.0            2               28.0       0     0.0   \n",
       "3       1669.0            3              202.0       0     0.0   \n",
       "4         37.0            3              162.0       0     0.0   \n",
       "...        ...          ...                ...     ...     ...   \n",
       "49995    500.0            2               79.0       1     4.5   \n",
       "49996   6341.0            2              542.0       1     3.5   \n",
       "49997   1652.0            2                4.0       1     4.5   \n",
       "49998    641.0            2               70.0       1     4.0   \n",
       "49999   4827.0            2              260.0       1     3.0   \n",
       "\n",
       "       Capital_restaurant  Сount_Сuisine  Сity_population  \\\n",
       "0                       1              2             2197   \n",
       "1                       1              5              643   \n",
       "2                       1              1              513   \n",
       "3                       1              5             8539   \n",
       "4                       1              6              426   \n",
       "...                   ...            ...              ...   \n",
       "49995                   0              4             1342   \n",
       "49996                   1              5             2197   \n",
       "49997                   1              2              961   \n",
       "49998                   1              5             1790   \n",
       "49999                   0              1             1342   \n",
       "\n",
       "       mean_Ranking_on_City  norm_Ranking_on_Popul_in_City  \\\n",
       "0               6938.557138                       2.742122   \n",
       "1                564.231579                      -0.712646   \n",
       "2                885.130201                      -0.146453   \n",
       "3               8169.707354                      -0.761296   \n",
       "4                462.428947                      -0.998660   \n",
       "...                     ...                            ...   \n",
       "49995           3106.027840                      -1.941899   \n",
       "49996           6938.557138                      -0.271988   \n",
       "49997           1237.482091                       0.431340   \n",
       "49998           1055.193514                      -0.231393   \n",
       "49999           3106.027840                       1.282394   \n",
       "\n",
       "       Number_of_Reviews_means  len_comment  diff_date  dayspass  \n",
       "0                        117.0          0.0        0.0         0  \n",
       "1                         66.0          2.0       37.0       120  \n",
       "2                        238.0          2.0       22.0        82  \n",
       "3                        138.0          2.0       14.0        96  \n",
       "4                         52.0          2.0       15.0        33  \n",
       "...                        ...          ...        ...       ...  \n",
       "49995                    168.0          2.0       34.0       106  \n",
       "49996                    117.0          2.0        9.0        76  \n",
       "49997                     75.0          2.0     3127.0      3607  \n",
       "49998                     67.0          2.0       23.0       253  \n",
       "49999                    168.0          2.0     1306.0      2063  \n",
       "\n",
       "[50000 rows x 14 columns]"
      ]
     },
     "execution_count": 36,
     "metadata": {},
     "output_type": "execute_result"
    }
   ],
   "source": [
    "df_new2 = df_new.drop(['Amsterdam', 'Athens', 'Barcelona', 'Berlin', 'Bratislava', 'Brussels',\n",
    "       'Budapest', 'Copenhagen', 'Dublin', 'Edinburgh', 'Geneva', 'Hamburg',\n",
    "       'Helsinki', 'Krakow', 'Lisbon', 'Ljubljana', 'London', 'Luxembourg',\n",
    "       'Lyon', 'Madrid', 'Milan', 'Munich', 'Oporto', 'Oslo', 'Paris',\n",
    "       'Prague', 'Rome', 'Stockholm', 'Vienna', 'Warsaw', 'Zurich'],axis = 1)\n",
    "df_new2"
   ]
  },
  {
   "cell_type": "code",
   "execution_count": 37,
   "metadata": {
    "execution": {
     "iopub.execute_input": "2021-03-27T14:12:00.848887Z",
     "iopub.status.busy": "2021-03-27T14:12:00.848094Z",
     "iopub.status.idle": "2021-03-27T14:12:01.884467Z",
     "shell.execute_reply": "2021-03-27T14:12:01.885032Z"
    },
    "papermill": {
     "duration": 1.098741,
     "end_time": "2021-03-27T14:12:01.885221",
     "exception": false,
     "start_time": "2021-03-27T14:12:00.786480",
     "status": "completed"
    },
    "tags": []
   },
   "outputs": [
    {
     "data": {
      "text/plain": [
       "<matplotlib.axes._subplots.AxesSubplot at 0x7fb7e688bf10>"
      ]
     },
     "execution_count": 37,
     "metadata": {},
     "output_type": "execute_result"
    },
    {
     "data": {
      "image/png": "[encoded data removed]",
      "text/plain": [
       "<Figure size 720x1152 with 2 Axes>"
      ]
     },
     "metadata": {
      "needs_background": "light"
     },
     "output_type": "display_data"
    }
   ],
   "source": [
    "plt.figure(figsize=(10, 16))\n",
    "sns.heatmap(df_new2.corr().abs(), vmin=0, vmax=1, annot = True, cmap=\"YlGnBu\")"
   ]
  },
  {
   "cell_type": "markdown",
   "metadata": {
    "papermill": {
     "duration": 0.071316,
     "end_time": "2021-03-27T14:12:02.030314",
     "exception": false,
     "start_time": "2021-03-27T14:12:01.958998",
     "status": "completed"
    },
    "tags": []
   },
   "source": [
    "Как мы видим, что относительно сильная корреляция выявлена между двух пар созданных признаков - 'diff_date' и 'dayspass',\\\n",
    "и Сity_population' и 'mean_Ranking_on_City'\\\n",
    "Не будем удалять никаие признаки. \n",
    "Выбросы из признаков тоже не удаляем."
   ]
  },
  {
   "cell_type": "markdown",
   "metadata": {
    "papermill": {
     "duration": 0.060702,
     "end_time": "2021-03-27T14:12:02.152779",
     "exception": false,
     "start_time": "2021-03-27T14:12:02.092077",
     "status": "completed"
    },
    "tags": []
   },
   "source": [
    "# Итог"
   ]
  },
  {
   "cell_type": "code",
   "execution_count": 38,
   "metadata": {
    "execution": {
     "iopub.execute_input": "2021-03-27T14:12:02.279870Z",
     "iopub.status.busy": "2021-03-27T14:12:02.279088Z",
     "iopub.status.idle": "2021-03-27T14:12:02.313555Z",
     "shell.execute_reply": "2021-03-27T14:12:02.312977Z"
    },
    "papermill": {
     "duration": 0.101584,
     "end_time": "2021-03-27T14:12:02.313677",
     "exception": false,
     "start_time": "2021-03-27T14:12:02.212093",
     "status": "completed"
    },
    "tags": []
   },
   "outputs": [],
   "source": [
    "# Теперь выделим тестовую часть\n",
    "train_data = df_new.query('Sample == 1').drop(['Sample'], axis=1)\n",
    "test_data = df_new.query('Sample == 0').drop(['Sample'], axis=1)\n",
    "\n",
    "y = train_data.Rating.values            # наш таргет\n",
    "X = train_data.drop(['Rating'], axis=1)"
   ]
  },
  {
   "cell_type": "code",
   "execution_count": 39,
   "metadata": {
    "execution": {
     "iopub.execute_input": "2021-03-27T14:12:02.442751Z",
     "iopub.status.busy": "2021-03-27T14:12:02.441981Z",
     "iopub.status.idle": "2021-03-27T14:12:10.260643Z",
     "shell.execute_reply": "2021-03-27T14:12:10.261204Z"
    },
    "papermill": {
     "duration": 7.88647,
     "end_time": "2021-03-27T14:12:10.261354",
     "exception": false,
     "start_time": "2021-03-27T14:12:02.374884",
     "status": "completed"
    },
    "tags": []
   },
   "outputs": [
    {
     "name": "stderr",
     "output_type": "stream",
     "text": [
      "[Parallel(n_jobs=-1)]: Using backend ThreadingBackend with 4 concurrent workers.\n",
      "[Parallel(n_jobs=-1)]: Done  42 tasks      | elapsed:    3.4s\n"
     ]
    },
    {
     "name": "stdout",
     "output_type": "stream",
     "text": [
      "MAE: 0.207152\n"
     ]
    },
    {
     "name": "stderr",
     "output_type": "stream",
     "text": [
      "[Parallel(n_jobs=-1)]: Done 100 out of 100 | elapsed:    7.6s finished\n",
      "[Parallel(n_jobs=4)]: Using backend ThreadingBackend with 4 concurrent workers.\n",
      "[Parallel(n_jobs=4)]: Done  42 tasks      | elapsed:    0.0s\n",
      "[Parallel(n_jobs=4)]: Done 100 out of 100 | elapsed:    0.1s finished\n"
     ]
    }
   ],
   "source": [
    "X_train, X_test, y_train, y_test = train_test_split(X, y, test_size=0.25)\n",
    "    \n",
    "regr = RandomForestRegressor(n_estimators=100, verbose=1, n_jobs=-1, random_state=RANDOM_SEED)\n",
    "regr.fit(X_train, y_train)  \n",
    "\n",
    "y_pred = regr.predict(X_test)    \n",
    "    \n",
    "mea = metrics.mean_absolute_error(y_pred, y_test)\n",
    "print(f'MAE: {round(mea,7)}')"
   ]
  },
  {
   "cell_type": "code",
   "execution_count": 40,
   "metadata": {
    "execution": {
     "iopub.execute_input": "2021-03-27T14:12:10.393491Z",
     "iopub.status.busy": "2021-03-27T14:12:10.392690Z",
     "iopub.status.idle": "2021-03-27T14:12:10.731377Z",
     "shell.execute_reply": "2021-03-27T14:12:10.730646Z"
    },
    "papermill": {
     "duration": 0.407619,
     "end_time": "2021-03-27T14:12:10.731527",
     "exception": false,
     "start_time": "2021-03-27T14:12:10.323908",
     "status": "completed"
    },
    "tags": []
   },
   "outputs": [
    {
     "data": {
      "text/plain": [
       "<matplotlib.axes._subplots.AxesSubplot at 0x7fb7e082cb10>"
      ]
     },
     "execution_count": 40,
     "metadata": {},
     "output_type": "execute_result"
    },
    {
     "data": {
      "image/png": "[encoded data removed]",
      "text/plain": [
       "<Figure size 720x720 with 1 Axes>"
      ]
     },
     "metadata": {
      "needs_background": "light"
     },
     "output_type": "display_data"
    }
   ],
   "source": [
    "# в RandomForestRegressor есть возможность вывести самые важные признаки для модели\n",
    "plt.rcParams['figure.figsize'] = (10,10)\n",
    "feat_importances = pd.Series(regr.feature_importances_, index=X.columns)\n",
    "feat_importances.nlargest(15).plot(kind='barh')"
   ]
  },
  {
   "cell_type": "markdown",
   "metadata": {
    "papermill": {
     "duration": 0.063249,
     "end_time": "2021-03-27T14:12:10.857548",
     "exception": false,
     "start_time": "2021-03-27T14:12:10.794299",
     "status": "completed"
    },
    "tags": []
   },
   "source": [
    "## Submission"
   ]
  },
  {
   "cell_type": "code",
   "execution_count": 41,
   "metadata": {
    "execution": {
     "iopub.execute_input": "2021-03-27T14:12:10.986574Z",
     "iopub.status.busy": "2021-03-27T14:12:10.985532Z",
     "iopub.status.idle": "2021-03-27T14:12:11.040387Z",
     "shell.execute_reply": "2021-03-27T14:12:11.040922Z"
    },
    "papermill": {
     "duration": 0.121188,
     "end_time": "2021-03-27T14:12:11.041083",
     "exception": false,
     "start_time": "2021-03-27T14:12:10.919895",
     "status": "completed"
    },
    "tags": []
   },
   "outputs": [
    {
     "data": {
      "text/html": [
       "<div>\n",
       "<style scoped>\n",
       "    .dataframe tbody tr th:only-of-type {\n",
       "        vertical-align: middle;\n",
       "    }\n",
       "\n",
       "    .dataframe tbody tr th {\n",
       "        vertical-align: top;\n",
       "    }\n",
       "\n",
       "    .dataframe thead th {\n",
       "        text-align: right;\n",
       "    }\n",
       "</style>\n",
       "<table border=\"1\" class=\"dataframe\">\n",
       "  <thead>\n",
       "    <tr style=\"text-align: right;\">\n",
       "      <th></th>\n",
       "      <th>Ranking</th>\n",
       "      <th>Price_Range</th>\n",
       "      <th>Number_of_Reviews</th>\n",
       "      <th>Rating</th>\n",
       "      <th>Capital_restaurant</th>\n",
       "      <th>Amsterdam</th>\n",
       "      <th>Athens</th>\n",
       "      <th>Barcelona</th>\n",
       "      <th>Berlin</th>\n",
       "      <th>Bratislava</th>\n",
       "      <th>Brussels</th>\n",
       "      <th>Budapest</th>\n",
       "      <th>Copenhagen</th>\n",
       "      <th>Dublin</th>\n",
       "      <th>Edinburgh</th>\n",
       "      <th>Geneva</th>\n",
       "      <th>Hamburg</th>\n",
       "      <th>Helsinki</th>\n",
       "      <th>Krakow</th>\n",
       "      <th>Lisbon</th>\n",
       "      <th>Ljubljana</th>\n",
       "      <th>London</th>\n",
       "      <th>Luxembourg</th>\n",
       "      <th>Lyon</th>\n",
       "      <th>Madrid</th>\n",
       "      <th>Milan</th>\n",
       "      <th>Munich</th>\n",
       "      <th>Oporto</th>\n",
       "      <th>Oslo</th>\n",
       "      <th>Paris</th>\n",
       "      <th>Prague</th>\n",
       "      <th>Rome</th>\n",
       "      <th>Stockholm</th>\n",
       "      <th>Vienna</th>\n",
       "      <th>Warsaw</th>\n",
       "      <th>Zurich</th>\n",
       "      <th>Сount_Сuisine</th>\n",
       "      <th>Сity_population</th>\n",
       "      <th>mean_Ranking_on_City</th>\n",
       "      <th>norm_Ranking_on_Popul_in_City</th>\n",
       "      <th>Number_of_Reviews_means</th>\n",
       "      <th>len_comment</th>\n",
       "      <th>diff_date</th>\n",
       "      <th>dayspass</th>\n",
       "    </tr>\n",
       "  </thead>\n",
       "  <tbody>\n",
       "    <tr>\n",
       "      <th>2242</th>\n",
       "      <td>3970.0</td>\n",
       "      <td>1</td>\n",
       "      <td>45.0</td>\n",
       "      <td>0.0</td>\n",
       "      <td>0</td>\n",
       "      <td>0.0</td>\n",
       "      <td>0.0</td>\n",
       "      <td>0.0</td>\n",
       "      <td>0.0</td>\n",
       "      <td>0.0</td>\n",
       "      <td>0.0</td>\n",
       "      <td>0.0</td>\n",
       "      <td>0.0</td>\n",
       "      <td>0.0</td>\n",
       "      <td>0.0</td>\n",
       "      <td>0.0</td>\n",
       "      <td>0.0</td>\n",
       "      <td>0.0</td>\n",
       "      <td>0.0</td>\n",
       "      <td>0.0</td>\n",
       "      <td>0.0</td>\n",
       "      <td>0.0</td>\n",
       "      <td>0.0</td>\n",
       "      <td>0.0</td>\n",
       "      <td>0.0</td>\n",
       "      <td>1.0</td>\n",
       "      <td>0.0</td>\n",
       "      <td>0.0</td>\n",
       "      <td>0.0</td>\n",
       "      <td>0.0</td>\n",
       "      <td>0.0</td>\n",
       "      <td>0.0</td>\n",
       "      <td>0.0</td>\n",
       "      <td>0.0</td>\n",
       "      <td>0.0</td>\n",
       "      <td>0.0</td>\n",
       "      <td>1</td>\n",
       "      <td>1342</td>\n",
       "      <td>3106.027840</td>\n",
       "      <td>0.643794</td>\n",
       "      <td>168.0</td>\n",
       "      <td>2.0</td>\n",
       "      <td>610.0</td>\n",
       "      <td>941</td>\n",
       "    </tr>\n",
       "    <tr>\n",
       "      <th>9098</th>\n",
       "      <td>1108.0</td>\n",
       "      <td>2</td>\n",
       "      <td>204.0</td>\n",
       "      <td>0.0</td>\n",
       "      <td>0</td>\n",
       "      <td>0.0</td>\n",
       "      <td>0.0</td>\n",
       "      <td>1.0</td>\n",
       "      <td>0.0</td>\n",
       "      <td>0.0</td>\n",
       "      <td>0.0</td>\n",
       "      <td>0.0</td>\n",
       "      <td>0.0</td>\n",
       "      <td>0.0</td>\n",
       "      <td>0.0</td>\n",
       "      <td>0.0</td>\n",
       "      <td>0.0</td>\n",
       "      <td>0.0</td>\n",
       "      <td>0.0</td>\n",
       "      <td>0.0</td>\n",
       "      <td>0.0</td>\n",
       "      <td>0.0</td>\n",
       "      <td>0.0</td>\n",
       "      <td>0.0</td>\n",
       "      <td>0.0</td>\n",
       "      <td>0.0</td>\n",
       "      <td>0.0</td>\n",
       "      <td>0.0</td>\n",
       "      <td>0.0</td>\n",
       "      <td>0.0</td>\n",
       "      <td>0.0</td>\n",
       "      <td>0.0</td>\n",
       "      <td>0.0</td>\n",
       "      <td>0.0</td>\n",
       "      <td>0.0</td>\n",
       "      <td>0.0</td>\n",
       "      <td>4</td>\n",
       "      <td>1621</td>\n",
       "      <td>3879.422680</td>\n",
       "      <td>-1.709699</td>\n",
       "      <td>136.0</td>\n",
       "      <td>2.0</td>\n",
       "      <td>62.0</td>\n",
       "      <td>116</td>\n",
       "    </tr>\n",
       "    <tr>\n",
       "      <th>7821</th>\n",
       "      <td>2435.0</td>\n",
       "      <td>2</td>\n",
       "      <td>225.0</td>\n",
       "      <td>0.0</td>\n",
       "      <td>1</td>\n",
       "      <td>0.0</td>\n",
       "      <td>0.0</td>\n",
       "      <td>0.0</td>\n",
       "      <td>0.0</td>\n",
       "      <td>0.0</td>\n",
       "      <td>0.0</td>\n",
       "      <td>0.0</td>\n",
       "      <td>0.0</td>\n",
       "      <td>0.0</td>\n",
       "      <td>0.0</td>\n",
       "      <td>0.0</td>\n",
       "      <td>0.0</td>\n",
       "      <td>0.0</td>\n",
       "      <td>0.0</td>\n",
       "      <td>0.0</td>\n",
       "      <td>0.0</td>\n",
       "      <td>1.0</td>\n",
       "      <td>0.0</td>\n",
       "      <td>0.0</td>\n",
       "      <td>0.0</td>\n",
       "      <td>0.0</td>\n",
       "      <td>0.0</td>\n",
       "      <td>0.0</td>\n",
       "      <td>0.0</td>\n",
       "      <td>0.0</td>\n",
       "      <td>0.0</td>\n",
       "      <td>0.0</td>\n",
       "      <td>0.0</td>\n",
       "      <td>0.0</td>\n",
       "      <td>0.0</td>\n",
       "      <td>0.0</td>\n",
       "      <td>5</td>\n",
       "      <td>8539</td>\n",
       "      <td>8169.707354</td>\n",
       "      <td>-0.671590</td>\n",
       "      <td>138.0</td>\n",
       "      <td>2.0</td>\n",
       "      <td>9.0</td>\n",
       "      <td>97</td>\n",
       "    </tr>\n",
       "    <tr>\n",
       "      <th>5730</th>\n",
       "      <td>12191.0</td>\n",
       "      <td>2</td>\n",
       "      <td>6.0</td>\n",
       "      <td>0.0</td>\n",
       "      <td>1</td>\n",
       "      <td>0.0</td>\n",
       "      <td>0.0</td>\n",
       "      <td>0.0</td>\n",
       "      <td>0.0</td>\n",
       "      <td>0.0</td>\n",
       "      <td>0.0</td>\n",
       "      <td>0.0</td>\n",
       "      <td>0.0</td>\n",
       "      <td>0.0</td>\n",
       "      <td>0.0</td>\n",
       "      <td>0.0</td>\n",
       "      <td>0.0</td>\n",
       "      <td>0.0</td>\n",
       "      <td>0.0</td>\n",
       "      <td>0.0</td>\n",
       "      <td>0.0</td>\n",
       "      <td>0.0</td>\n",
       "      <td>0.0</td>\n",
       "      <td>0.0</td>\n",
       "      <td>0.0</td>\n",
       "      <td>0.0</td>\n",
       "      <td>0.0</td>\n",
       "      <td>0.0</td>\n",
       "      <td>0.0</td>\n",
       "      <td>1.0</td>\n",
       "      <td>0.0</td>\n",
       "      <td>0.0</td>\n",
       "      <td>0.0</td>\n",
       "      <td>0.0</td>\n",
       "      <td>0.0</td>\n",
       "      <td>0.0</td>\n",
       "      <td>1</td>\n",
       "      <td>2197</td>\n",
       "      <td>6938.557138</td>\n",
       "      <td>2.390734</td>\n",
       "      <td>117.0</td>\n",
       "      <td>0.0</td>\n",
       "      <td>0.0</td>\n",
       "      <td>0</td>\n",
       "    </tr>\n",
       "    <tr>\n",
       "      <th>3148</th>\n",
       "      <td>618.0</td>\n",
       "      <td>3</td>\n",
       "      <td>454.0</td>\n",
       "      <td>0.0</td>\n",
       "      <td>1</td>\n",
       "      <td>0.0</td>\n",
       "      <td>0.0</td>\n",
       "      <td>0.0</td>\n",
       "      <td>0.0</td>\n",
       "      <td>0.0</td>\n",
       "      <td>0.0</td>\n",
       "      <td>0.0</td>\n",
       "      <td>0.0</td>\n",
       "      <td>0.0</td>\n",
       "      <td>0.0</td>\n",
       "      <td>0.0</td>\n",
       "      <td>0.0</td>\n",
       "      <td>0.0</td>\n",
       "      <td>0.0</td>\n",
       "      <td>0.0</td>\n",
       "      <td>0.0</td>\n",
       "      <td>0.0</td>\n",
       "      <td>0.0</td>\n",
       "      <td>0.0</td>\n",
       "      <td>0.0</td>\n",
       "      <td>0.0</td>\n",
       "      <td>0.0</td>\n",
       "      <td>0.0</td>\n",
       "      <td>0.0</td>\n",
       "      <td>1.0</td>\n",
       "      <td>0.0</td>\n",
       "      <td>0.0</td>\n",
       "      <td>0.0</td>\n",
       "      <td>0.0</td>\n",
       "      <td>0.0</td>\n",
       "      <td>0.0</td>\n",
       "      <td>4</td>\n",
       "      <td>2197</td>\n",
       "      <td>6938.557138</td>\n",
       "      <td>-2.876904</td>\n",
       "      <td>117.0</td>\n",
       "      <td>2.0</td>\n",
       "      <td>62.0</td>\n",
       "      <td>156</td>\n",
       "    </tr>\n",
       "    <tr>\n",
       "      <th>4535</th>\n",
       "      <td>3984.0</td>\n",
       "      <td>1</td>\n",
       "      <td>12.0</td>\n",
       "      <td>0.0</td>\n",
       "      <td>0</td>\n",
       "      <td>0.0</td>\n",
       "      <td>0.0</td>\n",
       "      <td>0.0</td>\n",
       "      <td>0.0</td>\n",
       "      <td>0.0</td>\n",
       "      <td>0.0</td>\n",
       "      <td>0.0</td>\n",
       "      <td>0.0</td>\n",
       "      <td>0.0</td>\n",
       "      <td>0.0</td>\n",
       "      <td>0.0</td>\n",
       "      <td>0.0</td>\n",
       "      <td>0.0</td>\n",
       "      <td>0.0</td>\n",
       "      <td>0.0</td>\n",
       "      <td>0.0</td>\n",
       "      <td>0.0</td>\n",
       "      <td>0.0</td>\n",
       "      <td>0.0</td>\n",
       "      <td>0.0</td>\n",
       "      <td>1.0</td>\n",
       "      <td>0.0</td>\n",
       "      <td>0.0</td>\n",
       "      <td>0.0</td>\n",
       "      <td>0.0</td>\n",
       "      <td>0.0</td>\n",
       "      <td>0.0</td>\n",
       "      <td>0.0</td>\n",
       "      <td>0.0</td>\n",
       "      <td>0.0</td>\n",
       "      <td>0.0</td>\n",
       "      <td>4</td>\n",
       "      <td>1342</td>\n",
       "      <td>3106.027840</td>\n",
       "      <td>0.654227</td>\n",
       "      <td>168.0</td>\n",
       "      <td>0.0</td>\n",
       "      <td>0.0</td>\n",
       "      <td>0</td>\n",
       "    </tr>\n",
       "    <tr>\n",
       "      <th>3264</th>\n",
       "      <td>2000.0</td>\n",
       "      <td>2</td>\n",
       "      <td>23.0</td>\n",
       "      <td>0.0</td>\n",
       "      <td>1</td>\n",
       "      <td>0.0</td>\n",
       "      <td>0.0</td>\n",
       "      <td>0.0</td>\n",
       "      <td>0.0</td>\n",
       "      <td>0.0</td>\n",
       "      <td>0.0</td>\n",
       "      <td>0.0</td>\n",
       "      <td>0.0</td>\n",
       "      <td>0.0</td>\n",
       "      <td>0.0</td>\n",
       "      <td>0.0</td>\n",
       "      <td>0.0</td>\n",
       "      <td>0.0</td>\n",
       "      <td>0.0</td>\n",
       "      <td>0.0</td>\n",
       "      <td>0.0</td>\n",
       "      <td>0.0</td>\n",
       "      <td>0.0</td>\n",
       "      <td>0.0</td>\n",
       "      <td>0.0</td>\n",
       "      <td>0.0</td>\n",
       "      <td>0.0</td>\n",
       "      <td>0.0</td>\n",
       "      <td>0.0</td>\n",
       "      <td>0.0</td>\n",
       "      <td>0.0</td>\n",
       "      <td>1.0</td>\n",
       "      <td>0.0</td>\n",
       "      <td>0.0</td>\n",
       "      <td>0.0</td>\n",
       "      <td>0.0</td>\n",
       "      <td>2</td>\n",
       "      <td>2869</td>\n",
       "      <td>2970.733102</td>\n",
       "      <td>-0.338352</td>\n",
       "      <td>290.0</td>\n",
       "      <td>0.0</td>\n",
       "      <td>0.0</td>\n",
       "      <td>0</td>\n",
       "    </tr>\n",
       "    <tr>\n",
       "      <th>2367</th>\n",
       "      <td>15871.0</td>\n",
       "      <td>1</td>\n",
       "      <td>19.0</td>\n",
       "      <td>0.0</td>\n",
       "      <td>1</td>\n",
       "      <td>0.0</td>\n",
       "      <td>0.0</td>\n",
       "      <td>0.0</td>\n",
       "      <td>0.0</td>\n",
       "      <td>0.0</td>\n",
       "      <td>0.0</td>\n",
       "      <td>0.0</td>\n",
       "      <td>0.0</td>\n",
       "      <td>0.0</td>\n",
       "      <td>0.0</td>\n",
       "      <td>0.0</td>\n",
       "      <td>0.0</td>\n",
       "      <td>0.0</td>\n",
       "      <td>0.0</td>\n",
       "      <td>0.0</td>\n",
       "      <td>0.0</td>\n",
       "      <td>1.0</td>\n",
       "      <td>0.0</td>\n",
       "      <td>0.0</td>\n",
       "      <td>0.0</td>\n",
       "      <td>0.0</td>\n",
       "      <td>0.0</td>\n",
       "      <td>0.0</td>\n",
       "      <td>0.0</td>\n",
       "      <td>0.0</td>\n",
       "      <td>0.0</td>\n",
       "      <td>0.0</td>\n",
       "      <td>0.0</td>\n",
       "      <td>0.0</td>\n",
       "      <td>0.0</td>\n",
       "      <td>0.0</td>\n",
       "      <td>2</td>\n",
       "      <td>8539</td>\n",
       "      <td>8169.707354</td>\n",
       "      <td>0.901896</td>\n",
       "      <td>138.0</td>\n",
       "      <td>2.0</td>\n",
       "      <td>30.0</td>\n",
       "      <td>259</td>\n",
       "    </tr>\n",
       "    <tr>\n",
       "      <th>411</th>\n",
       "      <td>7795.0</td>\n",
       "      <td>2</td>\n",
       "      <td>100.0</td>\n",
       "      <td>0.0</td>\n",
       "      <td>1</td>\n",
       "      <td>0.0</td>\n",
       "      <td>0.0</td>\n",
       "      <td>0.0</td>\n",
       "      <td>0.0</td>\n",
       "      <td>0.0</td>\n",
       "      <td>0.0</td>\n",
       "      <td>0.0</td>\n",
       "      <td>0.0</td>\n",
       "      <td>0.0</td>\n",
       "      <td>0.0</td>\n",
       "      <td>0.0</td>\n",
       "      <td>0.0</td>\n",
       "      <td>0.0</td>\n",
       "      <td>0.0</td>\n",
       "      <td>0.0</td>\n",
       "      <td>0.0</td>\n",
       "      <td>1.0</td>\n",
       "      <td>0.0</td>\n",
       "      <td>0.0</td>\n",
       "      <td>0.0</td>\n",
       "      <td>0.0</td>\n",
       "      <td>0.0</td>\n",
       "      <td>0.0</td>\n",
       "      <td>0.0</td>\n",
       "      <td>0.0</td>\n",
       "      <td>0.0</td>\n",
       "      <td>0.0</td>\n",
       "      <td>0.0</td>\n",
       "      <td>0.0</td>\n",
       "      <td>0.0</td>\n",
       "      <td>0.0</td>\n",
       "      <td>1</td>\n",
       "      <td>8539</td>\n",
       "      <td>8169.707354</td>\n",
       "      <td>-0.043882</td>\n",
       "      <td>138.0</td>\n",
       "      <td>2.0</td>\n",
       "      <td>10.0</td>\n",
       "      <td>137</td>\n",
       "    </tr>\n",
       "    <tr>\n",
       "      <th>8087</th>\n",
       "      <td>8624.0</td>\n",
       "      <td>1</td>\n",
       "      <td>17.0</td>\n",
       "      <td>0.0</td>\n",
       "      <td>1</td>\n",
       "      <td>0.0</td>\n",
       "      <td>0.0</td>\n",
       "      <td>0.0</td>\n",
       "      <td>0.0</td>\n",
       "      <td>0.0</td>\n",
       "      <td>0.0</td>\n",
       "      <td>0.0</td>\n",
       "      <td>0.0</td>\n",
       "      <td>0.0</td>\n",
       "      <td>0.0</td>\n",
       "      <td>0.0</td>\n",
       "      <td>0.0</td>\n",
       "      <td>0.0</td>\n",
       "      <td>0.0</td>\n",
       "      <td>0.0</td>\n",
       "      <td>0.0</td>\n",
       "      <td>1.0</td>\n",
       "      <td>0.0</td>\n",
       "      <td>0.0</td>\n",
       "      <td>0.0</td>\n",
       "      <td>0.0</td>\n",
       "      <td>0.0</td>\n",
       "      <td>0.0</td>\n",
       "      <td>0.0</td>\n",
       "      <td>0.0</td>\n",
       "      <td>0.0</td>\n",
       "      <td>0.0</td>\n",
       "      <td>0.0</td>\n",
       "      <td>0.0</td>\n",
       "      <td>0.0</td>\n",
       "      <td>0.0</td>\n",
       "      <td>2</td>\n",
       "      <td>8539</td>\n",
       "      <td>8169.707354</td>\n",
       "      <td>0.053202</td>\n",
       "      <td>138.0</td>\n",
       "      <td>2.0</td>\n",
       "      <td>110.0</td>\n",
       "      <td>249</td>\n",
       "    </tr>\n",
       "  </tbody>\n",
       "</table>\n",
       "</div>"
      ],
      "text/plain": [
       "      Ranking  Price_Range  Number_of_Reviews  Rating  Capital_restaurant  \\\n",
       "2242   3970.0            1               45.0     0.0                   0   \n",
       "9098   1108.0            2              204.0     0.0                   0   \n",
       "7821   2435.0            2              225.0     0.0                   1   \n",
       "5730  12191.0            2                6.0     0.0                   1   \n",
       "3148    618.0            3              454.0     0.0                   1   \n",
       "4535   3984.0            1               12.0     0.0                   0   \n",
       "3264   2000.0            2               23.0     0.0                   1   \n",
       "2367  15871.0            1               19.0     0.0                   1   \n",
       "411    7795.0            2              100.0     0.0                   1   \n",
       "8087   8624.0            1               17.0     0.0                   1   \n",
       "\n",
       "      Amsterdam  Athens  Barcelona  Berlin  Bratislava  Brussels  Budapest  \\\n",
       "2242        0.0     0.0        0.0     0.0         0.0       0.0       0.0   \n",
       "9098        0.0     0.0        1.0     0.0         0.0       0.0       0.0   \n",
       "7821        0.0     0.0        0.0     0.0         0.0       0.0       0.0   \n",
       "5730        0.0     0.0        0.0     0.0         0.0       0.0       0.0   \n",
       "3148        0.0     0.0        0.0     0.0         0.0       0.0       0.0   \n",
       "4535        0.0     0.0        0.0     0.0         0.0       0.0       0.0   \n",
       "3264        0.0     0.0        0.0     0.0         0.0       0.0       0.0   \n",
       "2367        0.0     0.0        0.0     0.0         0.0       0.0       0.0   \n",
       "411         0.0     0.0        0.0     0.0         0.0       0.0       0.0   \n",
       "8087        0.0     0.0        0.0     0.0         0.0       0.0       0.0   \n",
       "\n",
       "      Copenhagen  Dublin  Edinburgh  Geneva  Hamburg  Helsinki  Krakow  \\\n",
       "2242         0.0     0.0        0.0     0.0      0.0       0.0     0.0   \n",
       "9098         0.0     0.0        0.0     0.0      0.0       0.0     0.0   \n",
       "7821         0.0     0.0        0.0     0.0      0.0       0.0     0.0   \n",
       "5730         0.0     0.0        0.0     0.0      0.0       0.0     0.0   \n",
       "3148         0.0     0.0        0.0     0.0      0.0       0.0     0.0   \n",
       "4535         0.0     0.0        0.0     0.0      0.0       0.0     0.0   \n",
       "3264         0.0     0.0        0.0     0.0      0.0       0.0     0.0   \n",
       "2367         0.0     0.0        0.0     0.0      0.0       0.0     0.0   \n",
       "411          0.0     0.0        0.0     0.0      0.0       0.0     0.0   \n",
       "8087         0.0     0.0        0.0     0.0      0.0       0.0     0.0   \n",
       "\n",
       "      Lisbon  Ljubljana  London  Luxembourg  Lyon  Madrid  Milan  Munich  \\\n",
       "2242     0.0        0.0     0.0         0.0   0.0     0.0    1.0     0.0   \n",
       "9098     0.0        0.0     0.0         0.0   0.0     0.0    0.0     0.0   \n",
       "7821     0.0        0.0     1.0         0.0   0.0     0.0    0.0     0.0   \n",
       "5730     0.0        0.0     0.0         0.0   0.0     0.0    0.0     0.0   \n",
       "3148     0.0        0.0     0.0         0.0   0.0     0.0    0.0     0.0   \n",
       "4535     0.0        0.0     0.0         0.0   0.0     0.0    1.0     0.0   \n",
       "3264     0.0        0.0     0.0         0.0   0.0     0.0    0.0     0.0   \n",
       "2367     0.0        0.0     1.0         0.0   0.0     0.0    0.0     0.0   \n",
       "411      0.0        0.0     1.0         0.0   0.0     0.0    0.0     0.0   \n",
       "8087     0.0        0.0     1.0         0.0   0.0     0.0    0.0     0.0   \n",
       "\n",
       "      Oporto  Oslo  Paris  Prague  Rome  Stockholm  Vienna  Warsaw  Zurich  \\\n",
       "2242     0.0   0.0    0.0     0.0   0.0        0.0     0.0     0.0     0.0   \n",
       "9098     0.0   0.0    0.0     0.0   0.0        0.0     0.0     0.0     0.0   \n",
       "7821     0.0   0.0    0.0     0.0   0.0        0.0     0.0     0.0     0.0   \n",
       "5730     0.0   0.0    1.0     0.0   0.0        0.0     0.0     0.0     0.0   \n",
       "3148     0.0   0.0    1.0     0.0   0.0        0.0     0.0     0.0     0.0   \n",
       "4535     0.0   0.0    0.0     0.0   0.0        0.0     0.0     0.0     0.0   \n",
       "3264     0.0   0.0    0.0     0.0   1.0        0.0     0.0     0.0     0.0   \n",
       "2367     0.0   0.0    0.0     0.0   0.0        0.0     0.0     0.0     0.0   \n",
       "411      0.0   0.0    0.0     0.0   0.0        0.0     0.0     0.0     0.0   \n",
       "8087     0.0   0.0    0.0     0.0   0.0        0.0     0.0     0.0     0.0   \n",
       "\n",
       "      Сount_Сuisine  Сity_population  mean_Ranking_on_City  \\\n",
       "2242              1             1342           3106.027840   \n",
       "9098              4             1621           3879.422680   \n",
       "7821              5             8539           8169.707354   \n",
       "5730              1             2197           6938.557138   \n",
       "3148              4             2197           6938.557138   \n",
       "4535              4             1342           3106.027840   \n",
       "3264              2             2869           2970.733102   \n",
       "2367              2             8539           8169.707354   \n",
       "411               1             8539           8169.707354   \n",
       "8087              2             8539           8169.707354   \n",
       "\n",
       "      norm_Ranking_on_Popul_in_City  Number_of_Reviews_means  len_comment  \\\n",
       "2242                       0.643794                    168.0          2.0   \n",
       "9098                      -1.709699                    136.0          2.0   \n",
       "7821                      -0.671590                    138.0          2.0   \n",
       "5730                       2.390734                    117.0          0.0   \n",
       "3148                      -2.876904                    117.0          2.0   \n",
       "4535                       0.654227                    168.0          0.0   \n",
       "3264                      -0.338352                    290.0          0.0   \n",
       "2367                       0.901896                    138.0          2.0   \n",
       "411                       -0.043882                    138.0          2.0   \n",
       "8087                       0.053202                    138.0          2.0   \n",
       "\n",
       "      diff_date  dayspass  \n",
       "2242      610.0       941  \n",
       "9098       62.0       116  \n",
       "7821        9.0        97  \n",
       "5730        0.0         0  \n",
       "3148       62.0       156  \n",
       "4535        0.0         0  \n",
       "3264        0.0         0  \n",
       "2367       30.0       259  \n",
       "411        10.0       137  \n",
       "8087      110.0       249  "
      ]
     },
     "execution_count": 41,
     "metadata": {},
     "output_type": "execute_result"
    }
   ],
   "source": [
    "test_data.sample(10)"
   ]
  },
  {
   "cell_type": "code",
   "execution_count": 42,
   "metadata": {
    "execution": {
     "iopub.execute_input": "2021-03-27T14:12:11.173389Z",
     "iopub.status.busy": "2021-03-27T14:12:11.172381Z",
     "iopub.status.idle": "2021-03-27T14:12:11.183235Z",
     "shell.execute_reply": "2021-03-27T14:12:11.182643Z"
    },
    "papermill": {
     "duration": 0.078482,
     "end_time": "2021-03-27T14:12:11.183366",
     "exception": false,
     "start_time": "2021-03-27T14:12:11.104884",
     "status": "completed"
    },
    "tags": []
   },
   "outputs": [],
   "source": [
    "test_data = test_data.drop(['Rating'], axis=1)"
   ]
  },
  {
   "cell_type": "code",
   "execution_count": 43,
   "metadata": {
    "execution": {
     "iopub.execute_input": "2021-03-27T14:12:11.324710Z",
     "iopub.status.busy": "2021-03-27T14:12:11.323707Z",
     "iopub.status.idle": "2021-03-27T14:12:11.327921Z",
     "shell.execute_reply": "2021-03-27T14:12:11.328468Z"
    },
    "papermill": {
     "duration": 0.081377,
     "end_time": "2021-03-27T14:12:11.328611",
     "exception": false,
     "start_time": "2021-03-27T14:12:11.247234",
     "status": "completed"
    },
    "tags": []
   },
   "outputs": [
    {
     "data": {
      "text/html": [
       "<div>\n",
       "<style scoped>\n",
       "    .dataframe tbody tr th:only-of-type {\n",
       "        vertical-align: middle;\n",
       "    }\n",
       "\n",
       "    .dataframe tbody tr th {\n",
       "        vertical-align: top;\n",
       "    }\n",
       "\n",
       "    .dataframe thead th {\n",
       "        text-align: right;\n",
       "    }\n",
       "</style>\n",
       "<table border=\"1\" class=\"dataframe\">\n",
       "  <thead>\n",
       "    <tr style=\"text-align: right;\">\n",
       "      <th></th>\n",
       "      <th>Restaurant_id</th>\n",
       "      <th>Rating</th>\n",
       "    </tr>\n",
       "  </thead>\n",
       "  <tbody>\n",
       "    <tr>\n",
       "      <th>0</th>\n",
       "      <td>id_0</td>\n",
       "      <td>2.0</td>\n",
       "    </tr>\n",
       "    <tr>\n",
       "      <th>1</th>\n",
       "      <td>id_1</td>\n",
       "      <td>2.5</td>\n",
       "    </tr>\n",
       "    <tr>\n",
       "      <th>2</th>\n",
       "      <td>id_2</td>\n",
       "      <td>4.0</td>\n",
       "    </tr>\n",
       "    <tr>\n",
       "      <th>3</th>\n",
       "      <td>id_3</td>\n",
       "      <td>1.0</td>\n",
       "    </tr>\n",
       "    <tr>\n",
       "      <th>4</th>\n",
       "      <td>id_4</td>\n",
       "      <td>4.0</td>\n",
       "    </tr>\n",
       "    <tr>\n",
       "      <th>...</th>\n",
       "      <td>...</td>\n",
       "      <td>...</td>\n",
       "    </tr>\n",
       "    <tr>\n",
       "      <th>9995</th>\n",
       "      <td>id_9995</td>\n",
       "      <td>3.0</td>\n",
       "    </tr>\n",
       "    <tr>\n",
       "      <th>9996</th>\n",
       "      <td>id_9996</td>\n",
       "      <td>1.5</td>\n",
       "    </tr>\n",
       "    <tr>\n",
       "      <th>9997</th>\n",
       "      <td>id_9997</td>\n",
       "      <td>4.5</td>\n",
       "    </tr>\n",
       "    <tr>\n",
       "      <th>9998</th>\n",
       "      <td>id_9998</td>\n",
       "      <td>1.0</td>\n",
       "    </tr>\n",
       "    <tr>\n",
       "      <th>9999</th>\n",
       "      <td>id_9999</td>\n",
       "      <td>2.5</td>\n",
       "    </tr>\n",
       "  </tbody>\n",
       "</table>\n",
       "<p>10000 rows × 2 columns</p>\n",
       "</div>"
      ],
      "text/plain": [
       "     Restaurant_id  Rating\n",
       "0             id_0     2.0\n",
       "1             id_1     2.5\n",
       "2             id_2     4.0\n",
       "3             id_3     1.0\n",
       "4             id_4     4.0\n",
       "...            ...     ...\n",
       "9995       id_9995     3.0\n",
       "9996       id_9996     1.5\n",
       "9997       id_9997     4.5\n",
       "9998       id_9998     1.0\n",
       "9999       id_9999     2.5\n",
       "\n",
       "[10000 rows x 2 columns]"
      ]
     },
     "execution_count": 43,
     "metadata": {},
     "output_type": "execute_result"
    }
   ],
   "source": [
    "sample_submission"
   ]
  },
  {
   "cell_type": "code",
   "execution_count": 44,
   "metadata": {
    "execution": {
     "iopub.execute_input": "2021-03-27T14:12:11.462223Z",
     "iopub.status.busy": "2021-03-27T14:12:11.461497Z",
     "iopub.status.idle": "2021-03-27T14:12:11.574625Z",
     "shell.execute_reply": "2021-03-27T14:12:11.575420Z"
    },
    "papermill": {
     "duration": 0.181921,
     "end_time": "2021-03-27T14:12:11.575830",
     "exception": false,
     "start_time": "2021-03-27T14:12:11.393909",
     "status": "completed"
    },
    "tags": []
   },
   "outputs": [
    {
     "name": "stderr",
     "output_type": "stream",
     "text": [
      "[Parallel(n_jobs=4)]: Using backend ThreadingBackend with 4 concurrent workers.\n",
      "[Parallel(n_jobs=4)]: Done  42 tasks      | elapsed:    0.0s\n",
      "[Parallel(n_jobs=4)]: Done 100 out of 100 | elapsed:    0.1s finished\n"
     ]
    }
   ],
   "source": [
    "predict_submission = regr.predict(test_data)"
   ]
  },
  {
   "cell_type": "code",
   "execution_count": 45,
   "metadata": {
    "execution": {
     "iopub.execute_input": "2021-03-27T14:12:11.715646Z",
     "iopub.status.busy": "2021-03-27T14:12:11.714733Z",
     "iopub.status.idle": "2021-03-27T14:12:11.719833Z",
     "shell.execute_reply": "2021-03-27T14:12:11.719313Z"
    },
    "papermill": {
     "duration": 0.076891,
     "end_time": "2021-03-27T14:12:11.719978",
     "exception": false,
     "start_time": "2021-03-27T14:12:11.643087",
     "status": "completed"
    },
    "tags": []
   },
   "outputs": [
    {
     "data": {
      "text/plain": [
       "array([3.045, 4.205, 4.405, ..., 3.   , 4.01 , 4.29 ])"
      ]
     },
     "execution_count": 45,
     "metadata": {},
     "output_type": "execute_result"
    }
   ],
   "source": [
    "predict_submission"
   ]
  },
  {
   "cell_type": "code",
   "execution_count": 46,
   "metadata": {
    "execution": {
     "iopub.execute_input": "2021-03-27T14:12:11.859015Z",
     "iopub.status.busy": "2021-03-27T14:12:11.858182Z",
     "iopub.status.idle": "2021-03-27T14:12:12.008343Z",
     "shell.execute_reply": "2021-03-27T14:12:12.007583Z"
    },
    "papermill": {
     "duration": 0.221907,
     "end_time": "2021-03-27T14:12:12.008481",
     "exception": false,
     "start_time": "2021-03-27T14:12:11.786574",
     "status": "completed"
    },
    "tags": []
   },
   "outputs": [
    {
     "data": {
      "text/html": [
       "<div>\n",
       "<style scoped>\n",
       "    .dataframe tbody tr th:only-of-type {\n",
       "        vertical-align: middle;\n",
       "    }\n",
       "\n",
       "    .dataframe tbody tr th {\n",
       "        vertical-align: top;\n",
       "    }\n",
       "\n",
       "    .dataframe thead th {\n",
       "        text-align: right;\n",
       "    }\n",
       "</style>\n",
       "<table border=\"1\" class=\"dataframe\">\n",
       "  <thead>\n",
       "    <tr style=\"text-align: right;\">\n",
       "      <th></th>\n",
       "      <th>Restaurant_id</th>\n",
       "      <th>Rating</th>\n",
       "    </tr>\n",
       "  </thead>\n",
       "  <tbody>\n",
       "    <tr>\n",
       "      <th>0</th>\n",
       "      <td>id_0</td>\n",
       "      <td>3.045</td>\n",
       "    </tr>\n",
       "    <tr>\n",
       "      <th>1</th>\n",
       "      <td>id_1</td>\n",
       "      <td>4.205</td>\n",
       "    </tr>\n",
       "    <tr>\n",
       "      <th>2</th>\n",
       "      <td>id_2</td>\n",
       "      <td>4.405</td>\n",
       "    </tr>\n",
       "    <tr>\n",
       "      <th>3</th>\n",
       "      <td>id_3</td>\n",
       "      <td>4.325</td>\n",
       "    </tr>\n",
       "    <tr>\n",
       "      <th>4</th>\n",
       "      <td>id_4</td>\n",
       "      <td>4.420</td>\n",
       "    </tr>\n",
       "    <tr>\n",
       "      <th>5</th>\n",
       "      <td>id_5</td>\n",
       "      <td>4.280</td>\n",
       "    </tr>\n",
       "    <tr>\n",
       "      <th>6</th>\n",
       "      <td>id_6</td>\n",
       "      <td>1.235</td>\n",
       "    </tr>\n",
       "    <tr>\n",
       "      <th>7</th>\n",
       "      <td>id_7</td>\n",
       "      <td>3.075</td>\n",
       "    </tr>\n",
       "    <tr>\n",
       "      <th>8</th>\n",
       "      <td>id_8</td>\n",
       "      <td>4.030</td>\n",
       "    </tr>\n",
       "    <tr>\n",
       "      <th>9</th>\n",
       "      <td>id_9</td>\n",
       "      <td>4.455</td>\n",
       "    </tr>\n",
       "  </tbody>\n",
       "</table>\n",
       "</div>"
      ],
      "text/plain": [
       "  Restaurant_id  Rating\n",
       "0          id_0   3.045\n",
       "1          id_1   4.205\n",
       "2          id_2   4.405\n",
       "3          id_3   4.325\n",
       "4          id_4   4.420\n",
       "5          id_5   4.280\n",
       "6          id_6   1.235\n",
       "7          id_7   3.075\n",
       "8          id_8   4.030\n",
       "9          id_9   4.455"
      ]
     },
     "execution_count": 46,
     "metadata": {},
     "output_type": "execute_result"
    }
   ],
   "source": [
    "sample_submission['Rating'] = predict_submission\n",
    "sample_submission.to_csv('submission.csv', index=False)\n",
    "sample_submission.head(10)"
   ]
  }
 ],
 "metadata": {
  "kernelspec": {
   "display_name": "Python 3",
   "language": "python",
   "name": "python3"
  },
  "language_info": {
   "codemirror_mode": {
    "name": "ipython",
    "version": 3
   },
   "file_extension": ".py",
   "mimetype": "text/x-python",
   "name": "python",
   "nbconvert_exporter": "python",
   "pygments_lexer": "ipython3",
   "version": "3.7.6"
  },
  "papermill": {
   "duration": 31.207975,
   "end_time": "2021-03-27T14:12:13.147899",
   "environment_variables": {},
   "exception": null,
   "input_path": "__notebook__.ipynb",
   "output_path": "__notebook__.ipynb",
   "parameters": {},
   "start_time": "2021-03-27T14:11:41.939924",
   "version": "2.1.0"
  }
 },
 "nbformat": 4,
 "nbformat_minor": 4
}
